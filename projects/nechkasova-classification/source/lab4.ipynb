{
 "cells": [
  {
   "cell_type": "code",
   "execution_count": 8,
   "metadata": {},
   "outputs": [],
   "source": [
    "import numpy as np\n",
    "import time\n",
    "from sklearn.svm import SVC\n",
    "from sklearn.neural_network import MLPClassifier"
   ]
  },
  {
   "cell_type": "code",
   "execution_count": 9,
   "metadata": {},
   "outputs": [
    {
     "name": "stdout",
     "output_type": "stream",
     "text": [
      "alt.atheism\n",
      "comp.graphics\n",
      "alt.atheism\n"
     ]
    }
   ],
   "source": [
    "import os\n",
    "\n",
    "def get_file_class_map(root_dir):\n",
    "    file_class_map = {}\n",
    "\n",
    "    for root, dirs, files in os.walk(root_dir):\n",
    "        class_name = os.path.basename(root)\n",
    "\n",
    "        if class_name == os.path.basename(root_dir):\n",
    "            continue\n",
    "\n",
    "        for file_name in files:\n",
    "            key = file_name.split('.')[0]\n",
    "            file_class_map[key] = class_name\n",
    "\n",
    "    return file_class_map\n",
    "\n",
    "test_directory = '../../dataset/20news-bydate-test'\n",
    "file_class_test_map = get_file_class_map(test_directory)\n",
    "\n",
    "train_directory = '../../dataset/20news-bydate-train'\n",
    "file_class_train_map = get_file_class_map(train_directory)\n",
    "\n",
    "file_class_map = file_class_test_map | file_class_train_map\n",
    "\n",
    "print(file_class_map['53068'])\n",
    "print(file_class_map['38761'])\n",
    "print(file_class_map['49960'])"
   ]
  },
  {
   "cell_type": "code",
   "execution_count": 10,
   "metadata": {},
   "outputs": [],
   "source": [
    "def load_embeddings(file_path):\n",
    "    embeddings = []\n",
    "    doc_ids = []\n",
    "    with open(file_path, 'r') as f:\n",
    "        for line in f:\n",
    "            data = line.strip().split('\\t')\n",
    "            doc_id = data[0]\n",
    "            embedding = list(map(float, data[1:]))\n",
    "            doc_ids.append(doc_id)\n",
    "            embeddings.append(embedding)\n",
    "    return np.array(embeddings), doc_ids\n",
    "\n",
    "def get_labels(doc_ids, file_class_map):\n",
    "    labels = [file_class_map[doc_id] for doc_id in doc_ids]\n",
    "    return labels"
   ]
  },
  {
   "cell_type": "code",
   "execution_count": 11,
   "metadata": {},
   "outputs": [],
   "source": [
    "from sklearn.preprocessing import LabelEncoder\n",
    "\n",
    "train_embedding_file_path = '../../nechkasova-vectorization/assets/annotated-corpus/train.tsv'\n",
    "test_embedding_file_path = '../../nechkasova-vectorization/assets/annotated-corpus/test.tsv'\n",
    "\n",
    "X_train, doc_ids = load_embeddings(train_embedding_file_path)\n",
    "y_train = get_labels(doc_ids, file_class_map)\n",
    "\n",
    "label_encoder = LabelEncoder()\n",
    "y_train_encoded = label_encoder.fit_transform(y_train)\n",
    "\n",
    "X_test, doc_ids = load_embeddings(test_embedding_file_path)\n",
    "y_test = get_labels(doc_ids, file_class_map)\n",
    "\n",
    "label_encoder = LabelEncoder()\n",
    "y_test_encoded = label_encoder.fit_transform(y_test)"
   ]
  },
  {
   "cell_type": "code",
   "execution_count": 12,
   "metadata": {},
   "outputs": [
    {
     "name": "stdout",
     "output_type": "stream",
     "text": [
      "[[ 0.20773591  0.72988412 -0.11352285 ... -0.29935595 -0.1885143\n",
      "   0.286544  ]\n",
      " [ 0.14539602  0.61061025  0.04516278 ... -0.24808198 -0.27161203\n",
      "   0.3643503 ]\n",
      " [ 0.18635802  0.51708716 -0.02916354 ... -0.17222796 -0.28976381\n",
      "   0.04486433]\n",
      " ...\n",
      " [ 0.19553041  0.5397074  -0.04884807 ... -0.34322487 -0.2403506\n",
      "  -0.01544757]\n",
      " [ 0.26425181  0.69465227 -0.04891185 ... -0.29389333 -0.26407785\n",
      "   0.18813769]\n",
      " [ 0.20166849  0.6093968  -0.02778901 ... -0.29972352 -0.31026409\n",
      "   0.2870507 ]] [[ 0.08262633  0.39071409 -0.00992401 ... -0.21398073 -0.2028388\n",
      "   0.24255998]\n",
      " [ 0.08318808  0.51211188 -0.16336193 ... -0.20390385 -0.2129409\n",
      "   0.11551128]\n",
      " [ 0.11453234  0.67152243 -0.02109246 ... -0.1015598  -0.25121764\n",
      "   0.19826109]\n",
      " ...\n",
      " [ 0.18724539  0.53250695  0.00307958 ... -0.22663249 -0.2919248\n",
      "   0.29681634]\n",
      " [ 0.27671094  0.50519299  0.01900373 ... -0.30224663 -0.279837\n",
      "   0.16828765]\n",
      " [ 0.04503434  0.5982903  -0.10858543 ... -0.21932402 -0.2808188\n",
      "   0.16079474]] [ 6 17  6 ... 19 19 19] [17  6 17 ... 19 19 19]\n"
     ]
    }
   ],
   "source": [
    "print(X_train, X_test, y_train_encoded, y_test_encoded)"
   ]
  },
  {
   "cell_type": "code",
   "execution_count": 13,
   "metadata": {},
   "outputs": [],
   "source": [
    "def calculate_metrics(y_true, y_pred):\n",
    "    labels = np.unique(y_true)\n",
    "    precision_per_class = []\n",
    "    recall_per_class = []\n",
    "    f1_score_per_class = []\n",
    "    \n",
    "    total_samples = len(y_true)\n",
    "    \n",
    "    for label in labels:\n",
    "        tp = sum((y_true == label) & (y_pred == label))\n",
    "        fp = sum((y_true != label) & (y_pred == label))\n",
    "        fn = sum((y_true == label) & (y_pred != label))\n",
    "        tn = sum((y_true != label) & (y_pred != label))\n",
    "        \n",
    "        precision = tp / (tp + fp) if (tp + fp) > 0 else 0\n",
    "        recall = tp / (tp + fn) if (tp + fn) > 0 else 0\n",
    "        f1_score = (2 * precision * recall) / (precision + recall) if (precision + recall) > 0 else 0\n",
    "        \n",
    "        precision_per_class.append(precision)\n",
    "        recall_per_class.append(recall)\n",
    "        f1_score_per_class.append(f1_score)\n",
    "    \n",
    "    accuracy = np.sum(y_true == y_pred) / total_samples\n",
    "    \n",
    "    return {\n",
    "        'precision': np.mean(precision_per_class),\n",
    "        'recall': np.mean(recall_per_class),\n",
    "        'f1-score': np.mean(f1_score_per_class),\n",
    "        'accuracy': accuracy\n",
    "    }"
   ]
  },
  {
   "cell_type": "code",
   "execution_count": 14,
   "metadata": {},
   "outputs": [],
   "source": [
    "kernels = ['linear', 'poly', 'rbf', 'sigmoid']\n",
    "kernel_params = {\n",
    "    'linear': {'C': [0.1, 1, 10]},\n",
    "    'poly': {'C': [0.1, 1], 'degree': [2, 3], 'coef0': [0.1, 1]},\n",
    "    'rbf': {'C': [0.1, 1], 'gamma': ['scale', 0.1]},\n",
    "    'sigmoid': {'C': [0.1, 1], 'gamma': ['scale', 0.1], 'coef0': [0, 0.5]}\n",
    "}"
   ]
  },
  {
   "cell_type": "code",
   "execution_count": 15,
   "metadata": {},
   "outputs": [],
   "source": [
    "def experiment_svm(X_train, y_train, X_test, y_test, kernels, kernel_params):\n",
    "    results = {}\n",
    "\n",
    "    for kernel in kernels:\n",
    "        param_values = kernel_params[kernel]\n",
    "        \n",
    "        for C in param_values.get('C', [1]):\n",
    "            for degree in param_values.get('degree', [3]):\n",
    "                for gamma in param_values.get('gamma', ['scale']):\n",
    "                    for coef0 in param_values.get('coef0', [0]):\n",
    "                        model_params = {'kernel': kernel, 'C': C}\n",
    "                        if kernel == 'poly':\n",
    "                            model_params['degree'] = degree\n",
    "                            model_params['coef0'] = coef0\n",
    "                        elif kernel in ['rbf', 'sigmoid']:\n",
    "                            model_params['gamma'] = gamma\n",
    "                            model_params['coef0'] = coef0\n",
    "\n",
    "                        model = SVC(**model_params, random_state=42)\n",
    "                        start_time = time.time()\n",
    "                        model.fit(X_train, y_train)\n",
    "                        train_time = time.time() - start_time\n",
    "\n",
    "                        y_pred = model.predict(X_test)\n",
    "\n",
    "                        metrics = calculate_metrics(y_test, y_pred)\n",
    "\n",
    "                        results[(kernel, C, degree, gamma, coef0)] = {\n",
    "                            'metrics': metrics,\n",
    "                            'training_time': train_time\n",
    "                        }\n",
    "\n",
    "                        print(f\"Kernel: {kernel}, C: {C}, Degree: {degree}, Gamma: {gamma}, Coef0: {coef0}\")\n",
    "                        print(f\"Accuracy: {metrics['accuracy']:.4f}, Precision: {metrics['precision']:.4f}, Recall: {metrics['recall']:.4f}, F1-Score: {metrics['f1-score']:.4f}\")\n",
    "                        print(f\"Training Time: {train_time:.4f} seconds\\n\")\n",
    "    return results"
   ]
  },
  {
   "cell_type": "code",
   "execution_count": 16,
   "metadata": {},
   "outputs": [
    {
     "name": "stdout",
     "output_type": "stream",
     "text": [
      "Kernel: linear, C: 0.1, Degree: 3, Gamma: scale, Coef0: 0\n",
      "Accuracy: 0.2387, Precision: 0.2066, Recall: 0.2075, F1-Score: 0.1723\n",
      "Training Time: 6.2211 seconds\n",
      "\n",
      "Kernel: linear, C: 1, Degree: 3, Gamma: scale, Coef0: 0\n",
      "Accuracy: 0.2788, Precision: 0.2597, Recall: 0.2475, F1-Score: 0.2235\n",
      "Training Time: 5.4420 seconds\n",
      "\n",
      "Kernel: linear, C: 10, Degree: 3, Gamma: scale, Coef0: 0\n",
      "Accuracy: 0.3139, Precision: 0.3063, Recall: 0.2829, F1-Score: 0.2636\n",
      "Training Time: 6.9223 seconds\n",
      "\n",
      "Kernel: poly, C: 0.1, Degree: 2, Gamma: scale, Coef0: 0.1\n",
      "Accuracy: 0.1782, Precision: 0.1875, Recall: 0.1479, F1-Score: 0.1211\n",
      "Training Time: 7.3157 seconds\n",
      "\n",
      "Kernel: poly, C: 0.1, Degree: 2, Gamma: scale, Coef0: 1\n",
      "Accuracy: 0.2063, Precision: 0.1485, Recall: 0.1732, F1-Score: 0.1366\n",
      "Training Time: 6.8237 seconds\n",
      "\n",
      "Kernel: poly, C: 0.1, Degree: 3, Gamma: scale, Coef0: 0.1\n",
      "Accuracy: 0.1831, Precision: 0.2144, Recall: 0.1514, F1-Score: 0.1239\n",
      "Training Time: 7.1892 seconds\n",
      "\n",
      "Kernel: poly, C: 0.1, Degree: 3, Gamma: scale, Coef0: 1\n",
      "Accuracy: 0.2381, Precision: 0.2715, Recall: 0.2054, F1-Score: 0.1681\n",
      "Training Time: 6.2180 seconds\n",
      "\n",
      "Kernel: poly, C: 1, Degree: 2, Gamma: scale, Coef0: 0.1\n",
      "Accuracy: 0.2594, Precision: 0.2360, Recall: 0.2232, F1-Score: 0.1902\n",
      "Training Time: 5.8678 seconds\n",
      "\n",
      "Kernel: poly, C: 1, Degree: 2, Gamma: scale, Coef0: 1\n",
      "Accuracy: 0.2703, Precision: 0.2373, Recall: 0.2350, F1-Score: 0.2058\n",
      "Training Time: 5.5779 seconds\n",
      "\n",
      "Kernel: poly, C: 1, Degree: 3, Gamma: scale, Coef0: 0.1\n",
      "Accuracy: 0.2580, Precision: 0.2353, Recall: 0.2246, F1-Score: 0.1913\n",
      "Training Time: 5.9063 seconds\n",
      "\n",
      "Kernel: poly, C: 1, Degree: 3, Gamma: scale, Coef0: 1\n",
      "Accuracy: 0.2950, Precision: 0.2560, Recall: 0.2575, F1-Score: 0.2331\n",
      "Training Time: 5.1859 seconds\n",
      "\n",
      "Kernel: rbf, C: 0.1, Degree: 3, Gamma: scale, Coef0: 0\n",
      "Accuracy: 0.1820, Precision: 0.1363, Recall: 0.1490, F1-Score: 0.1141\n",
      "Training Time: 8.1748 seconds\n",
      "\n",
      "Kernel: rbf, C: 0.1, Degree: 3, Gamma: 0.1, Coef0: 0\n",
      "Accuracy: 0.1836, Precision: 0.1377, Recall: 0.1506, F1-Score: 0.1160\n",
      "Training Time: 8.2792 seconds\n",
      "\n",
      "Kernel: rbf, C: 1, Degree: 3, Gamma: scale, Coef0: 0\n",
      "Accuracy: 0.2604, Precision: 0.2364, Recall: 0.2255, F1-Score: 0.1932\n",
      "Training Time: 6.3961 seconds\n",
      "\n",
      "Kernel: rbf, C: 1, Degree: 3, Gamma: 0.1, Coef0: 0\n",
      "Accuracy: 0.2606, Precision: 0.2358, Recall: 0.2259, F1-Score: 0.1939\n",
      "Training Time: 6.3715 seconds\n",
      "\n",
      "Kernel: sigmoid, C: 0.1, Degree: 3, Gamma: scale, Coef0: 0\n",
      "Accuracy: 0.0733, Precision: 0.1414, Recall: 0.0655, F1-Score: 0.0208\n",
      "Training Time: 9.1671 seconds\n",
      "\n",
      "Kernel: sigmoid, C: 0.1, Degree: 3, Gamma: scale, Coef0: 0.5\n",
      "Accuracy: 0.0559, Precision: 0.0591, Recall: 0.0508, F1-Score: 0.0070\n",
      "Training Time: 9.5487 seconds\n",
      "\n",
      "Kernel: sigmoid, C: 0.1, Degree: 3, Gamma: 0.1, Coef0: 0\n",
      "Accuracy: 0.0721, Precision: 0.0908, Recall: 0.0647, F1-Score: 0.0205\n",
      "Training Time: 9.1455 seconds\n",
      "\n",
      "Kernel: sigmoid, C: 0.1, Degree: 3, Gamma: 0.1, Coef0: 0.5\n",
      "Accuracy: 0.0558, Precision: 0.0583, Recall: 0.0507, F1-Score: 0.0067\n",
      "Training Time: 9.6309 seconds\n",
      "\n",
      "Kernel: sigmoid, C: 1, Degree: 3, Gamma: scale, Coef0: 0\n",
      "Accuracy: 0.1503, Precision: 0.2102, Recall: 0.1267, F1-Score: 0.1114\n",
      "Training Time: 6.2271 seconds\n",
      "\n",
      "Kernel: sigmoid, C: 1, Degree: 3, Gamma: scale, Coef0: 0.5\n",
      "Accuracy: 0.1016, Precision: 0.1031, Recall: 0.0853, F1-Score: 0.0621\n",
      "Training Time: 7.6272 seconds\n",
      "\n",
      "Kernel: sigmoid, C: 1, Degree: 3, Gamma: 0.1, Coef0: 0\n",
      "Accuracy: 0.1422, Precision: 0.1581, Recall: 0.1142, F1-Score: 0.0957\n",
      "Training Time: 6.1541 seconds\n",
      "\n",
      "Kernel: sigmoid, C: 1, Degree: 3, Gamma: 0.1, Coef0: 0.5\n",
      "Accuracy: 0.0978, Precision: 0.1152, Recall: 0.0827, F1-Score: 0.0662\n",
      "Training Time: 7.6034 seconds\n",
      "\n",
      "SVM (линейное ядро) - метрики\n",
      "Параметры: ('linear', 0.1, 3, 'scale', 0), Метрики: {'metrics': {'precision': 0.20664961096633755, 'recall': 0.20749316778799648, 'f1-score': 0.1722792519961211, 'accuracy': 0.2387148167817313}, 'training_time': 6.221127986907959}\n",
      "Параметры: ('linear', 1, 3, 'scale', 0), Метрики: {'metrics': {'precision': 0.2597204158946232, 'recall': 0.2474885208134233, 'f1-score': 0.22349831100280096, 'accuracy': 0.2788104089219331}, 'training_time': 5.4419519901275635}\n",
      "Параметры: ('linear', 10, 3, 'scale', 0), Метрики: {'metrics': {'precision': 0.30628481429817184, 'recall': 0.2829167966438175, 'f1-score': 0.26361694009289255, 'accuracy': 0.3138608603292618}, 'training_time': 6.922250986099243}\n",
      "Параметры: ('poly', 0.1, 2, 'scale', 0.1), Метрики: {'metrics': {'precision': 0.18751241019896783, 'recall': 0.14793705334752588, 'f1-score': 0.12106539794958404, 'accuracy': 0.17817312798725438}, 'training_time': 7.315683841705322}\n",
      "Параметры: ('poly', 0.1, 2, 'scale', 1), Метрики: {'metrics': {'precision': 0.1484860159457391, 'recall': 0.17318480707602876, 'f1-score': 0.1365939605267537, 'accuracy': 0.20631970260223048}, 'training_time': 6.82368803024292}\n",
      "Параметры: ('poly', 0.1, 3, 'scale', 0.1), Метрики: {'metrics': {'precision': 0.2144297539739879, 'recall': 0.15137463629418285, 'f1-score': 0.12393946605381242, 'accuracy': 0.18308550185873607}, 'training_time': 7.189172983169556}\n",
      "Параметры: ('poly', 0.1, 3, 'scale', 1), Метрики: {'metrics': {'precision': 0.2715125041773153, 'recall': 0.20535845486461074, 'f1-score': 0.1680644060869809, 'accuracy': 0.2380509824747743}, 'training_time': 6.218029022216797}\n",
      "Параметры: ('poly', 1, 2, 'scale', 0.1), Метрики: {'metrics': {'precision': 0.23598356492453676, 'recall': 0.22317539764178845, 'f1-score': 0.19023345909154005, 'accuracy': 0.25942644715878915}, 'training_time': 5.867772817611694}\n",
      "Параметры: ('poly', 1, 2, 'scale', 1), Метрики: {'metrics': {'precision': 0.23732955749103118, 'recall': 0.2349525624718586, 'f1-score': 0.2058457757788709, 'accuracy': 0.2703133297928837}, 'training_time': 5.577868938446045}\n",
      "Параметры: ('poly', 1, 3, 'scale', 0.1), Метрики: {'metrics': {'precision': 0.23526059822577422, 'recall': 0.2246315071812243, 'f1-score': 0.19134915977523254, 'accuracy': 0.2579660116834838}, 'training_time': 5.906258821487427}\n",
      "Параметры: ('poly', 1, 3, 'scale', 1), Метрики: {'metrics': {'precision': 0.25599728437244496, 'recall': 0.25749609608066815, 'f1-score': 0.23312070843143448, 'accuracy': 0.2950079660116835}, 'training_time': 5.185912847518921}\n",
      "Параметры: ('rbf', 0.1, 3, 'scale', 0), Метрики: {'metrics': {'precision': 0.1362569079666661, 'recall': 0.1490380599677337, 'f1-score': 0.11408924091797283, 'accuracy': 0.18202336696760488}, 'training_time': 8.174771308898926}\n",
      "Параметры: ('rbf', 0.1, 3, 0.1, 0), Метрики: {'metrics': {'precision': 0.13767228519983893, 'recall': 0.150595778856796, 'f1-score': 0.1159756935679929, 'accuracy': 0.18361656930430165}, 'training_time': 8.279247760772705}\n",
      "Параметры: ('rbf', 1, 3, 'scale', 0), Метрики: {'metrics': {'precision': 0.23635633793894853, 'recall': 0.22551597986129374, 'f1-score': 0.19323078557838794, 'accuracy': 0.26035581518852896}, 'training_time': 6.39607310295105}\n",
      "Параметры: ('rbf', 1, 3, 0.1, 0), Метрики: {'metrics': {'precision': 0.23584194041796538, 'recall': 0.2259422361759187, 'f1-score': 0.1939253598247052, 'accuracy': 0.2606213489113117}, 'training_time': 6.371500015258789}\n",
      "Параметры: ('sigmoid', 0.1, 3, 'scale', 0), Метрики: {'metrics': {'precision': 0.14139505927659518, 'recall': 0.06551922120346902, 'f1-score': 0.02077918512302322, 'accuracy': 0.07328730748805098}, 'training_time': 9.167088270187378}\n",
      "Параметры: ('sigmoid', 0.1, 3, 'scale', 0.5), Метрики: {'metrics': {'precision': 0.059148879311325155, 'recall': 0.050841754946870446, 'f1-score': 0.00697152753316563, 'accuracy': 0.05589484864577801}, 'training_time': 9.54866099357605}\n",
      "Параметры: ('sigmoid', 0.1, 3, 0.1, 0), Метрики: {'metrics': {'precision': 0.09084082124477047, 'recall': 0.06465576953871717, 'f1-score': 0.020532192022875814, 'accuracy': 0.07209240573552841}, 'training_time': 9.145505905151367}\n",
      "Параметры: ('sigmoid', 0.1, 3, 0.1, 0.5), Метрики: {'metrics': {'precision': 0.05832071719060765, 'recall': 0.05070247918085373, 'f1-score': 0.006729992072742269, 'accuracy': 0.055762081784386616}, 'training_time': 9.630854845046997}\n",
      "Параметры: ('sigmoid', 1, 3, 'scale', 0), Метрики: {'metrics': {'precision': 0.2102272585508455, 'recall': 0.1267489559331446, 'f1-score': 0.11135883715491142, 'accuracy': 0.15029208709506106}, 'training_time': 6.227097749710083}\n",
      "Параметры: ('sigmoid', 1, 3, 'scale', 0.5), Метрики: {'metrics': {'precision': 0.10307750428989401, 'recall': 0.08533519577617804, 'f1-score': 0.06207425584281327, 'accuracy': 0.10156664896441849}, 'training_time': 7.627212762832642}\n",
      "Параметры: ('sigmoid', 1, 3, 0.1, 0), Метрики: {'metrics': {'precision': 0.15812515566688626, 'recall': 0.11421350497344891, 'f1-score': 0.09567817284804232, 'accuracy': 0.1421933085501859}, 'training_time': 6.154142141342163}\n",
      "Параметры: ('sigmoid', 1, 3, 0.1, 0.5), Метрики: {'metrics': {'precision': 0.1152084426324393, 'recall': 0.08265380322897901, 'f1-score': 0.06620905099534205, 'accuracy': 0.09784917684545938}, 'training_time': 7.603417158126831}\n"
     ]
    }
   ],
   "source": [
    "# SVM (линейное ядро)\n",
    "results = experiment_svm(X_train, y_train_encoded, X_test, y_test_encoded, kernels, kernel_params)\n",
    "\n",
    "print(\"SVM (линейное ядро) - метрики\")\n",
    "for params, metrics in results.items():\n",
    "    print(f\"Параметры: {params}, Метрики: {metrics}\")"
   ]
  },
  {
   "cell_type": "markdown",
   "metadata": {},
   "source": [
    "Параметры: ('poly', 1, 3, 'scale', 1), Метрики: {'metrics': {'precision': 0.521016335174504, 'recall': 0.363963840727409, 'f1-score': 0.36057352794214004, 'accuracy': 0.4193919038359554}, 'training_time': 5.166396856307983}"
   ]
  },
  {
   "cell_type": "code",
   "execution_count": 17,
   "metadata": {},
   "outputs": [],
   "source": [
    "hidden_layer_options = [(50,), (100,), (100, 50), (100, 100, 50)]\n",
    "max_iter_options = [100, 300, 500, 1000]\n",
    "learning_rate_options = [0.001, 0.01]\n",
    "activation_options = ['relu', 'tanh', 'logistic']"
   ]
  },
  {
   "cell_type": "code",
   "execution_count": 18,
   "metadata": {},
   "outputs": [],
   "source": [
    "def experiment_mlp(X_train, y_train, X_test, y_test):\n",
    "    results = {}\n",
    "    \n",
    "    for hidden_layers in hidden_layer_options:\n",
    "        for max_iter in max_iter_options:\n",
    "            for learning_rate in learning_rate_options:\n",
    "                for activation in activation_options:\n",
    "                    model = MLPClassifier(\n",
    "                        hidden_layer_sizes=hidden_layers,\n",
    "                        max_iter=max_iter,\n",
    "                        learning_rate_init=learning_rate,\n",
    "                        activation=activation,\n",
    "                        random_state=42\n",
    "                    )\n",
    "\n",
    "                    start_time = time.time()\n",
    "                    model.fit(X_train, y_train)\n",
    "                    training_time = time.time() - start_time\n",
    "                    \n",
    "                    y_pred = model.predict(X_test)\n",
    "                    metrics = calculate_metrics(y_test, y_pred)\n",
    "\n",
    "                    params = (hidden_layers, max_iter, learning_rate, activation)\n",
    "                    results[params] = {\n",
    "                        'metrics': metrics,\n",
    "                        'training_time': training_time\n",
    "                    }\n",
    "\n",
    "                    print(f\"Params: {params}\")\n",
    "                    print(f\"Metrics: {metrics}\")\n",
    "                    print(f\"Training Time: {training_time:.4f} seconds\\n\")\n",
    "    \n",
    "    return results"
   ]
  },
  {
   "cell_type": "code",
   "execution_count": 19,
   "metadata": {},
   "outputs": [
    {
     "name": "stderr",
     "output_type": "stream",
     "text": [
      "/Library/Frameworks/Python.framework/Versions/3.12/lib/python3.12/site-packages/sklearn/neural_network/_multilayer_perceptron.py:691: ConvergenceWarning: Stochastic Optimizer: Maximum iterations (100) reached and the optimization hasn't converged yet.\n",
      "  warnings.warn(\n"
     ]
    },
    {
     "name": "stdout",
     "output_type": "stream",
     "text": [
      "Params: ((50,), 100, 0.001, 'relu')\n",
      "Metrics: {'precision': 0.2887943548147237, 'recall': 0.2835544638488966, 'f1-score': 0.25665263582757414, 'accuracy': 0.31240042485395647}\n",
      "Training Time: 2.8510 seconds\n",
      "\n"
     ]
    },
    {
     "name": "stderr",
     "output_type": "stream",
     "text": [
      "/Library/Frameworks/Python.framework/Versions/3.12/lib/python3.12/site-packages/sklearn/neural_network/_multilayer_perceptron.py:691: ConvergenceWarning: Stochastic Optimizer: Maximum iterations (100) reached and the optimization hasn't converged yet.\n",
      "  warnings.warn(\n"
     ]
    },
    {
     "name": "stdout",
     "output_type": "stream",
     "text": [
      "Params: ((50,), 100, 0.001, 'tanh')\n",
      "Metrics: {'precision': 0.2861109979379039, 'recall': 0.28341303677576357, 'f1-score': 0.25402041764228234, 'accuracy': 0.3053637812002124}\n",
      "Training Time: 2.7025 seconds\n",
      "\n"
     ]
    },
    {
     "name": "stderr",
     "output_type": "stream",
     "text": [
      "/Library/Frameworks/Python.framework/Versions/3.12/lib/python3.12/site-packages/sklearn/neural_network/_multilayer_perceptron.py:691: ConvergenceWarning: Stochastic Optimizer: Maximum iterations (100) reached and the optimization hasn't converged yet.\n",
      "  warnings.warn(\n"
     ]
    },
    {
     "name": "stdout",
     "output_type": "stream",
     "text": [
      "Params: ((50,), 100, 0.001, 'logistic')\n",
      "Metrics: {'precision': 0.24661646708841065, 'recall': 0.24471938697400403, 'f1-score': 0.21524574989051723, 'accuracy': 0.2711099309612321}\n",
      "Training Time: 3.0110 seconds\n",
      "\n"
     ]
    },
    {
     "name": "stderr",
     "output_type": "stream",
     "text": [
      "/Library/Frameworks/Python.framework/Versions/3.12/lib/python3.12/site-packages/sklearn/neural_network/_multilayer_perceptron.py:691: ConvergenceWarning: Stochastic Optimizer: Maximum iterations (100) reached and the optimization hasn't converged yet.\n",
      "  warnings.warn(\n"
     ]
    },
    {
     "name": "stdout",
     "output_type": "stream",
     "text": [
      "Params: ((50,), 100, 0.01, 'relu')\n",
      "Metrics: {'precision': 0.31339012416468937, 'recall': 0.29494191567578965, 'f1-score': 0.27322354654271447, 'accuracy': 0.3167817312798725}\n",
      "Training Time: 2.6946 seconds\n",
      "\n"
     ]
    },
    {
     "name": "stderr",
     "output_type": "stream",
     "text": [
      "/Library/Frameworks/Python.framework/Versions/3.12/lib/python3.12/site-packages/sklearn/neural_network/_multilayer_perceptron.py:691: ConvergenceWarning: Stochastic Optimizer: Maximum iterations (100) reached and the optimization hasn't converged yet.\n",
      "  warnings.warn(\n"
     ]
    },
    {
     "name": "stdout",
     "output_type": "stream",
     "text": [
      "Params: ((50,), 100, 0.01, 'tanh')\n",
      "Metrics: {'precision': 0.3186698008689377, 'recall': 0.310135183628648, 'f1-score': 0.2950365115903789, 'accuracy': 0.3312533191715348}\n",
      "Training Time: 2.7135 seconds\n",
      "\n"
     ]
    },
    {
     "name": "stderr",
     "output_type": "stream",
     "text": [
      "/Library/Frameworks/Python.framework/Versions/3.12/lib/python3.12/site-packages/sklearn/neural_network/_multilayer_perceptron.py:691: ConvergenceWarning: Stochastic Optimizer: Maximum iterations (100) reached and the optimization hasn't converged yet.\n",
      "  warnings.warn(\n"
     ]
    },
    {
     "name": "stdout",
     "output_type": "stream",
     "text": [
      "Params: ((50,), 100, 0.01, 'logistic')\n",
      "Metrics: {'precision': 0.2993331274796712, 'recall': 0.28717445115342904, 'f1-score': 0.2709782583441668, 'accuracy': 0.3133297928836962}\n",
      "Training Time: 2.8817 seconds\n",
      "\n"
     ]
    },
    {
     "name": "stderr",
     "output_type": "stream",
     "text": [
      "/Library/Frameworks/Python.framework/Versions/3.12/lib/python3.12/site-packages/sklearn/neural_network/_multilayer_perceptron.py:691: ConvergenceWarning: Stochastic Optimizer: Maximum iterations (300) reached and the optimization hasn't converged yet.\n",
      "  warnings.warn(\n"
     ]
    },
    {
     "name": "stdout",
     "output_type": "stream",
     "text": [
      "Params: ((50,), 300, 0.001, 'relu')\n",
      "Metrics: {'precision': 0.3015312190173235, 'recall': 0.29020864259754264, 'f1-score': 0.2657409730310184, 'accuracy': 0.31625066383430694}\n",
      "Training Time: 7.9727 seconds\n",
      "\n"
     ]
    },
    {
     "name": "stderr",
     "output_type": "stream",
     "text": [
      "/Library/Frameworks/Python.framework/Versions/3.12/lib/python3.12/site-packages/sklearn/neural_network/_multilayer_perceptron.py:691: ConvergenceWarning: Stochastic Optimizer: Maximum iterations (300) reached and the optimization hasn't converged yet.\n",
      "  warnings.warn(\n"
     ]
    },
    {
     "name": "stdout",
     "output_type": "stream",
     "text": [
      "Params: ((50,), 300, 0.001, 'tanh')\n",
      "Metrics: {'precision': 0.3093811066195343, 'recall': 0.2910100494671335, 'f1-score': 0.2700193362932811, 'accuracy': 0.3236856080722252}\n",
      "Training Time: 14.1763 seconds\n",
      "\n"
     ]
    },
    {
     "name": "stderr",
     "output_type": "stream",
     "text": [
      "/Library/Frameworks/Python.framework/Versions/3.12/lib/python3.12/site-packages/sklearn/neural_network/_multilayer_perceptron.py:691: ConvergenceWarning: Stochastic Optimizer: Maximum iterations (300) reached and the optimization hasn't converged yet.\n",
      "  warnings.warn(\n"
     ]
    },
    {
     "name": "stdout",
     "output_type": "stream",
     "text": [
      "Params: ((50,), 300, 0.001, 'logistic')\n",
      "Metrics: {'precision': 0.27999299719565096, 'recall': 0.2820117858468103, 'f1-score': 0.24995513284818024, 'accuracy': 0.3068242166755178}\n",
      "Training Time: 14.7366 seconds\n",
      "\n",
      "Params: ((50,), 300, 0.01, 'relu')\n",
      "Metrics: {'precision': 0.3057453746364285, 'recall': 0.28384188551661343, 'f1-score': 0.2590760676067395, 'accuracy': 0.30576208178438663}\n",
      "Training Time: 4.7121 seconds\n",
      "\n",
      "Params: ((50,), 300, 0.01, 'tanh')\n",
      "Metrics: {'precision': 0.3035034009876988, 'recall': 0.29300648660737727, 'f1-score': 0.27745080248907594, 'accuracy': 0.3131970260223048}\n",
      "Training Time: 9.4542 seconds\n",
      "\n",
      "Params: ((50,), 300, 0.01, 'logistic')\n",
      "Metrics: {'precision': 0.31409499673137675, 'recall': 0.30108699917100756, 'f1-score': 0.2796441816615953, 'accuracy': 0.3259426447158789}\n",
      "Training Time: 12.5368 seconds\n",
      "\n"
     ]
    },
    {
     "name": "stderr",
     "output_type": "stream",
     "text": [
      "/Library/Frameworks/Python.framework/Versions/3.12/lib/python3.12/site-packages/sklearn/neural_network/_multilayer_perceptron.py:691: ConvergenceWarning: Stochastic Optimizer: Maximum iterations (500) reached and the optimization hasn't converged yet.\n",
      "  warnings.warn(\n"
     ]
    },
    {
     "name": "stdout",
     "output_type": "stream",
     "text": [
      "Params: ((50,), 500, 0.001, 'relu')\n",
      "Metrics: {'precision': 0.31215280941392043, 'recall': 0.2995570610883971, 'f1-score': 0.2767272039202898, 'accuracy': 0.32461497610196494}\n",
      "Training Time: 20.9627 seconds\n",
      "\n",
      "Params: ((50,), 500, 0.001, 'tanh')\n",
      "Metrics: {'precision': 0.3123186505297578, 'recall': 0.3011874579367784, 'f1-score': 0.27816739283737607, 'accuracy': 0.3175783324482209}\n",
      "Training Time: 21.9764 seconds\n",
      "\n"
     ]
    },
    {
     "name": "stderr",
     "output_type": "stream",
     "text": [
      "/Library/Frameworks/Python.framework/Versions/3.12/lib/python3.12/site-packages/sklearn/neural_network/_multilayer_perceptron.py:691: ConvergenceWarning: Stochastic Optimizer: Maximum iterations (500) reached and the optimization hasn't converged yet.\n",
      "  warnings.warn(\n"
     ]
    },
    {
     "name": "stdout",
     "output_type": "stream",
     "text": [
      "Params: ((50,), 500, 0.001, 'logistic')\n",
      "Metrics: {'precision': 0.30171756225460533, 'recall': 0.29345699684997084, 'f1-score': 0.26712937082865595, 'accuracy': 0.31651619755708976}\n",
      "Training Time: 18.4201 seconds\n",
      "\n",
      "Params: ((50,), 500, 0.01, 'relu')\n",
      "Metrics: {'precision': 0.3057453746364285, 'recall': 0.28384188551661343, 'f1-score': 0.2590760676067395, 'accuracy': 0.30576208178438663}\n",
      "Training Time: 7.6609 seconds\n",
      "\n",
      "Params: ((50,), 500, 0.01, 'tanh')\n",
      "Metrics: {'precision': 0.3035034009876988, 'recall': 0.29300648660737727, 'f1-score': 0.27745080248907594, 'accuracy': 0.3131970260223048}\n",
      "Training Time: 9.2516 seconds\n",
      "\n",
      "Params: ((50,), 500, 0.01, 'logistic')\n",
      "Metrics: {'precision': 0.31409499673137675, 'recall': 0.30108699917100756, 'f1-score': 0.2796441816615953, 'accuracy': 0.3259426447158789}\n",
      "Training Time: 7.0738 seconds\n",
      "\n",
      "Params: ((50,), 1000, 0.001, 'relu')\n",
      "Metrics: {'precision': 0.32379479669905387, 'recall': 0.3143554679219026, 'f1-score': 0.2865575208754112, 'accuracy': 0.3295273499734466}\n",
      "Training Time: 27.1308 seconds\n",
      "\n",
      "Params: ((50,), 1000, 0.001, 'tanh')\n",
      "Metrics: {'precision': 0.3123186505297578, 'recall': 0.3011874579367784, 'f1-score': 0.27816739283737607, 'accuracy': 0.3175783324482209}\n",
      "Training Time: 20.2011 seconds\n",
      "\n",
      "Params: ((50,), 1000, 0.001, 'logistic')\n",
      "Metrics: {'precision': 0.3059651628428003, 'recall': 0.30841807879542177, 'f1-score': 0.28180613771644786, 'accuracy': 0.32753584705257566}\n",
      "Training Time: 36.3308 seconds\n",
      "\n",
      "Params: ((50,), 1000, 0.01, 'relu')\n",
      "Metrics: {'precision': 0.3057453746364285, 'recall': 0.28384188551661343, 'f1-score': 0.2590760676067395, 'accuracy': 0.30576208178438663}\n",
      "Training Time: 6.6028 seconds\n",
      "\n",
      "Params: ((50,), 1000, 0.01, 'tanh')\n",
      "Metrics: {'precision': 0.3035034009876988, 'recall': 0.29300648660737727, 'f1-score': 0.27745080248907594, 'accuracy': 0.3131970260223048}\n",
      "Training Time: 8.5587 seconds\n",
      "\n",
      "Params: ((50,), 1000, 0.01, 'logistic')\n",
      "Metrics: {'precision': 0.31409499673137675, 'recall': 0.30108699917100756, 'f1-score': 0.2796441816615953, 'accuracy': 0.3259426447158789}\n",
      "Training Time: 10.4060 seconds\n",
      "\n"
     ]
    },
    {
     "name": "stderr",
     "output_type": "stream",
     "text": [
      "/Library/Frameworks/Python.framework/Versions/3.12/lib/python3.12/site-packages/sklearn/neural_network/_multilayer_perceptron.py:691: ConvergenceWarning: Stochastic Optimizer: Maximum iterations (100) reached and the optimization hasn't converged yet.\n",
      "  warnings.warn(\n"
     ]
    },
    {
     "name": "stdout",
     "output_type": "stream",
     "text": [
      "Params: ((100,), 100, 0.001, 'relu')\n",
      "Metrics: {'precision': 0.29925120747061296, 'recall': 0.2862422090687536, 'f1-score': 0.26248906449846193, 'accuracy': 0.3201009028146575}\n",
      "Training Time: 5.1288 seconds\n",
      "\n"
     ]
    },
    {
     "name": "stderr",
     "output_type": "stream",
     "text": [
      "/Library/Frameworks/Python.framework/Versions/3.12/lib/python3.12/site-packages/sklearn/neural_network/_multilayer_perceptron.py:691: ConvergenceWarning: Stochastic Optimizer: Maximum iterations (100) reached and the optimization hasn't converged yet.\n",
      "  warnings.warn(\n"
     ]
    },
    {
     "name": "stdout",
     "output_type": "stream",
     "text": [
      "Params: ((100,), 100, 0.001, 'tanh')\n",
      "Metrics: {'precision': 0.30293669042232324, 'recall': 0.289321047445549, 'f1-score': 0.27013975570488513, 'accuracy': 0.32501327668613916}\n",
      "Training Time: 5.1084 seconds\n",
      "\n"
     ]
    },
    {
     "name": "stderr",
     "output_type": "stream",
     "text": [
      "/Library/Frameworks/Python.framework/Versions/3.12/lib/python3.12/site-packages/sklearn/neural_network/_multilayer_perceptron.py:691: ConvergenceWarning: Stochastic Optimizer: Maximum iterations (100) reached and the optimization hasn't converged yet.\n",
      "  warnings.warn(\n"
     ]
    },
    {
     "name": "stdout",
     "output_type": "stream",
     "text": [
      "Params: ((100,), 100, 0.001, 'logistic')\n",
      "Metrics: {'precision': 0.2649534299119716, 'recall': 0.25950317989025445, 'f1-score': 0.23178541636000433, 'accuracy': 0.29168879447689855}\n",
      "Training Time: 6.9840 seconds\n",
      "\n"
     ]
    },
    {
     "name": "stderr",
     "output_type": "stream",
     "text": [
      "/Library/Frameworks/Python.framework/Versions/3.12/lib/python3.12/site-packages/sklearn/neural_network/_multilayer_perceptron.py:691: ConvergenceWarning: Stochastic Optimizer: Maximum iterations (100) reached and the optimization hasn't converged yet.\n",
      "  warnings.warn(\n"
     ]
    },
    {
     "name": "stdout",
     "output_type": "stream",
     "text": [
      "Params: ((100,), 100, 0.01, 'relu')\n",
      "Metrics: {'precision': 0.29725703990048813, 'recall': 0.30318079695527406, 'f1-score': 0.27923241710836916, 'accuracy': 0.32116303770578863}\n",
      "Training Time: 4.6075 seconds\n",
      "\n"
     ]
    },
    {
     "name": "stderr",
     "output_type": "stream",
     "text": [
      "/Library/Frameworks/Python.framework/Versions/3.12/lib/python3.12/site-packages/sklearn/neural_network/_multilayer_perceptron.py:691: ConvergenceWarning: Stochastic Optimizer: Maximum iterations (100) reached and the optimization hasn't converged yet.\n",
      "  warnings.warn(\n"
     ]
    },
    {
     "name": "stdout",
     "output_type": "stream",
     "text": [
      "Params: ((100,), 100, 0.01, 'tanh')\n",
      "Metrics: {'precision': 0.29005924874337263, 'recall': 0.2915249572020232, 'f1-score': 0.2654980223261196, 'accuracy': 0.3138608603292618}\n",
      "Training Time: 5.7260 seconds\n",
      "\n"
     ]
    },
    {
     "name": "stderr",
     "output_type": "stream",
     "text": [
      "/Library/Frameworks/Python.framework/Versions/3.12/lib/python3.12/site-packages/sklearn/neural_network/_multilayer_perceptron.py:691: ConvergenceWarning: Stochastic Optimizer: Maximum iterations (100) reached and the optimization hasn't converged yet.\n",
      "  warnings.warn(\n"
     ]
    },
    {
     "name": "stdout",
     "output_type": "stream",
     "text": [
      "Params: ((100,), 100, 0.01, 'logistic')\n",
      "Metrics: {'precision': 0.3064979440962091, 'recall': 0.2974948753263488, 'f1-score': 0.279872100166005, 'accuracy': 0.3190387679235263}\n",
      "Training Time: 5.6854 seconds\n",
      "\n"
     ]
    },
    {
     "name": "stderr",
     "output_type": "stream",
     "text": [
      "/Library/Frameworks/Python.framework/Versions/3.12/lib/python3.12/site-packages/sklearn/neural_network/_multilayer_perceptron.py:691: ConvergenceWarning: Stochastic Optimizer: Maximum iterations (300) reached and the optimization hasn't converged yet.\n",
      "  warnings.warn(\n"
     ]
    },
    {
     "name": "stdout",
     "output_type": "stream",
     "text": [
      "Params: ((100,), 300, 0.001, 'relu')\n",
      "Metrics: {'precision': 0.3112832617410908, 'recall': 0.3054991680680366, 'f1-score': 0.28368443500264573, 'accuracy': 0.32886351566648964}\n",
      "Training Time: 22.4425 seconds\n",
      "\n"
     ]
    },
    {
     "name": "stderr",
     "output_type": "stream",
     "text": [
      "/Library/Frameworks/Python.framework/Versions/3.12/lib/python3.12/site-packages/sklearn/neural_network/_multilayer_perceptron.py:691: ConvergenceWarning: Stochastic Optimizer: Maximum iterations (300) reached and the optimization hasn't converged yet.\n",
      "  warnings.warn(\n"
     ]
    },
    {
     "name": "stdout",
     "output_type": "stream",
     "text": [
      "Params: ((100,), 300, 0.001, 'tanh')\n",
      "Metrics: {'precision': 0.316933582985438, 'recall': 0.3030399367187726, 'f1-score': 0.28725957393448315, 'accuracy': 0.3307222517259692}\n",
      "Training Time: 17.5371 seconds\n",
      "\n"
     ]
    },
    {
     "name": "stderr",
     "output_type": "stream",
     "text": [
      "/Library/Frameworks/Python.framework/Versions/3.12/lib/python3.12/site-packages/sklearn/neural_network/_multilayer_perceptron.py:691: ConvergenceWarning: Stochastic Optimizer: Maximum iterations (300) reached and the optimization hasn't converged yet.\n",
      "  warnings.warn(\n"
     ]
    },
    {
     "name": "stdout",
     "output_type": "stream",
     "text": [
      "Params: ((100,), 300, 0.001, 'logistic')\n",
      "Metrics: {'precision': 0.3108247908466656, 'recall': 0.29059214454645554, 'f1-score': 0.27164089905739425, 'accuracy': 0.3244822092405735}\n",
      "Training Time: 23.1114 seconds\n",
      "\n",
      "Params: ((100,), 300, 0.01, 'relu')\n",
      "Metrics: {'precision': 0.2943366227198877, 'recall': 0.3029800361868518, 'f1-score': 0.2703598354652749, 'accuracy': 0.3098778544875199}\n",
      "Training Time: 4.6261 seconds\n",
      "\n",
      "Params: ((100,), 300, 0.01, 'tanh')\n",
      "Metrics: {'precision': 0.33064355050642935, 'recall': 0.28731562307943925, 'f1-score': 0.2704725888335774, 'accuracy': 0.29540626659585767}\n",
      "Training Time: 11.5031 seconds\n",
      "\n",
      "Params: ((100,), 300, 0.01, 'logistic')\n",
      "Metrics: {'precision': 0.3110316758188104, 'recall': 0.29638547185216957, 'f1-score': 0.27205296921498323, 'accuracy': 0.3193043016463091}\n",
      "Training Time: 15.5134 seconds\n",
      "\n"
     ]
    },
    {
     "name": "stderr",
     "output_type": "stream",
     "text": [
      "/Library/Frameworks/Python.framework/Versions/3.12/lib/python3.12/site-packages/sklearn/neural_network/_multilayer_perceptron.py:691: ConvergenceWarning: Stochastic Optimizer: Maximum iterations (500) reached and the optimization hasn't converged yet.\n",
      "  warnings.warn(\n"
     ]
    },
    {
     "name": "stdout",
     "output_type": "stream",
     "text": [
      "Params: ((100,), 500, 0.001, 'relu')\n",
      "Metrics: {'precision': 0.3103633402581203, 'recall': 0.31394167787584326, 'f1-score': 0.2851346089534436, 'accuracy': 0.3272703133297929}\n",
      "Training Time: 34.1345 seconds\n",
      "\n"
     ]
    },
    {
     "name": "stderr",
     "output_type": "stream",
     "text": [
      "/Library/Frameworks/Python.framework/Versions/3.12/lib/python3.12/site-packages/sklearn/neural_network/_multilayer_perceptron.py:691: ConvergenceWarning: Stochastic Optimizer: Maximum iterations (500) reached and the optimization hasn't converged yet.\n",
      "  warnings.warn(\n"
     ]
    },
    {
     "name": "stdout",
     "output_type": "stream",
     "text": [
      "Params: ((100,), 500, 0.001, 'tanh')\n",
      "Metrics: {'precision': 0.32273018237094575, 'recall': 0.31663228672281296, 'f1-score': 0.28527527305346145, 'accuracy': 0.3279341476367499}\n",
      "Training Time: 27.3184 seconds\n",
      "\n"
     ]
    },
    {
     "name": "stderr",
     "output_type": "stream",
     "text": [
      "/Library/Frameworks/Python.framework/Versions/3.12/lib/python3.12/site-packages/sklearn/neural_network/_multilayer_perceptron.py:691: ConvergenceWarning: Stochastic Optimizer: Maximum iterations (500) reached and the optimization hasn't converged yet.\n",
      "  warnings.warn(\n"
     ]
    },
    {
     "name": "stdout",
     "output_type": "stream",
     "text": [
      "Params: ((100,), 500, 0.001, 'logistic')\n",
      "Metrics: {'precision': 0.304188815684954, 'recall': 0.29542868530748934, 'f1-score': 0.27722662985824365, 'accuracy': 0.32620817843866173}\n",
      "Training Time: 37.9590 seconds\n",
      "\n",
      "Params: ((100,), 500, 0.01, 'relu')\n",
      "Metrics: {'precision': 0.2943366227198877, 'recall': 0.3029800361868518, 'f1-score': 0.2703598354652749, 'accuracy': 0.3098778544875199}\n",
      "Training Time: 6.5029 seconds\n",
      "\n",
      "Params: ((100,), 500, 0.01, 'tanh')\n",
      "Metrics: {'precision': 0.33064355050642935, 'recall': 0.28731562307943925, 'f1-score': 0.2704725888335774, 'accuracy': 0.29540626659585767}\n",
      "Training Time: 15.2128 seconds\n",
      "\n",
      "Params: ((100,), 500, 0.01, 'logistic')\n",
      "Metrics: {'precision': 0.3110316758188104, 'recall': 0.29638547185216957, 'f1-score': 0.27205296921498323, 'accuracy': 0.3193043016463091}\n",
      "Training Time: 20.6853 seconds\n",
      "\n",
      "Params: ((100,), 1000, 0.001, 'relu')\n",
      "Metrics: {'precision': 0.3094396106537294, 'recall': 0.30880769817941317, 'f1-score': 0.28600069211859197, 'accuracy': 0.3252788104089219}\n",
      "Training Time: 28.2657 seconds\n",
      "\n",
      "Params: ((100,), 1000, 0.001, 'tanh')\n",
      "Metrics: {'precision': 0.32934113346085303, 'recall': 0.3139406500555619, 'f1-score': 0.2886573182313568, 'accuracy': 0.3278013807753585}\n",
      "Training Time: 43.6451 seconds\n",
      "\n"
     ]
    },
    {
     "name": "stderr",
     "output_type": "stream",
     "text": [
      "/Library/Frameworks/Python.framework/Versions/3.12/lib/python3.12/site-packages/sklearn/neural_network/_multilayer_perceptron.py:691: ConvergenceWarning: Stochastic Optimizer: Maximum iterations (1000) reached and the optimization hasn't converged yet.\n",
      "  warnings.warn(\n"
     ]
    },
    {
     "name": "stdout",
     "output_type": "stream",
     "text": [
      "Params: ((100,), 1000, 0.001, 'logistic')\n",
      "Metrics: {'precision': 0.3079621274261727, 'recall': 0.3002380534788616, 'f1-score': 0.28025355869749985, 'accuracy': 0.3230217737652682}\n",
      "Training Time: 45.9840 seconds\n",
      "\n",
      "Params: ((100,), 1000, 0.01, 'relu')\n",
      "Metrics: {'precision': 0.2943366227198877, 'recall': 0.3029800361868518, 'f1-score': 0.2703598354652749, 'accuracy': 0.3098778544875199}\n",
      "Training Time: 5.7324 seconds\n",
      "\n",
      "Params: ((100,), 1000, 0.01, 'tanh')\n",
      "Metrics: {'precision': 0.33064355050642935, 'recall': 0.28731562307943925, 'f1-score': 0.2704725888335774, 'accuracy': 0.29540626659585767}\n",
      "Training Time: 13.8999 seconds\n",
      "\n",
      "Params: ((100,), 1000, 0.01, 'logistic')\n",
      "Metrics: {'precision': 0.3110316758188104, 'recall': 0.29638547185216957, 'f1-score': 0.27205296921498323, 'accuracy': 0.3193043016463091}\n",
      "Training Time: 16.5312 seconds\n",
      "\n"
     ]
    },
    {
     "name": "stderr",
     "output_type": "stream",
     "text": [
      "/Library/Frameworks/Python.framework/Versions/3.12/lib/python3.12/site-packages/sklearn/neural_network/_multilayer_perceptron.py:691: ConvergenceWarning: Stochastic Optimizer: Maximum iterations (100) reached and the optimization hasn't converged yet.\n",
      "  warnings.warn(\n"
     ]
    },
    {
     "name": "stdout",
     "output_type": "stream",
     "text": [
      "Params: ((100, 50), 100, 0.001, 'relu')\n",
      "Metrics: {'precision': 0.30669106833642823, 'recall': 0.28324088115688967, 'f1-score': 0.2622626590061439, 'accuracy': 0.3153212958045672}\n",
      "Training Time: 5.5869 seconds\n",
      "\n"
     ]
    },
    {
     "name": "stderr",
     "output_type": "stream",
     "text": [
      "/Library/Frameworks/Python.framework/Versions/3.12/lib/python3.12/site-packages/sklearn/neural_network/_multilayer_perceptron.py:691: ConvergenceWarning: Stochastic Optimizer: Maximum iterations (100) reached and the optimization hasn't converged yet.\n",
      "  warnings.warn(\n"
     ]
    },
    {
     "name": "stdout",
     "output_type": "stream",
     "text": [
      "Params: ((100, 50), 100, 0.001, 'tanh')\n",
      "Metrics: {'precision': 0.3198251030374534, 'recall': 0.28632366282051713, 'f1-score': 0.26416019749513353, 'accuracy': 0.31917153478491767}\n",
      "Training Time: 5.8138 seconds\n",
      "\n"
     ]
    },
    {
     "name": "stderr",
     "output_type": "stream",
     "text": [
      "/Library/Frameworks/Python.framework/Versions/3.12/lib/python3.12/site-packages/sklearn/neural_network/_multilayer_perceptron.py:691: ConvergenceWarning: Stochastic Optimizer: Maximum iterations (100) reached and the optimization hasn't converged yet.\n",
      "  warnings.warn(\n"
     ]
    },
    {
     "name": "stdout",
     "output_type": "stream",
     "text": [
      "Params: ((100, 50), 100, 0.001, 'logistic')\n",
      "Metrics: {'precision': 0.22241425446695703, 'recall': 0.2434557804117637, 'f1-score': 0.20793427301547332, 'accuracy': 0.2786776420605417}\n",
      "Training Time: 6.5465 seconds\n",
      "\n"
     ]
    },
    {
     "name": "stderr",
     "output_type": "stream",
     "text": [
      "/Library/Frameworks/Python.framework/Versions/3.12/lib/python3.12/site-packages/sklearn/neural_network/_multilayer_perceptron.py:691: ConvergenceWarning: Stochastic Optimizer: Maximum iterations (100) reached and the optimization hasn't converged yet.\n",
      "  warnings.warn(\n"
     ]
    },
    {
     "name": "stdout",
     "output_type": "stream",
     "text": [
      "Params: ((100, 50), 100, 0.01, 'relu')\n",
      "Metrics: {'precision': 0.282374723306375, 'recall': 0.28567655333218417, 'f1-score': 0.25714667848380607, 'accuracy': 0.3028412108337759}\n",
      "Training Time: 6.3791 seconds\n",
      "\n"
     ]
    },
    {
     "name": "stderr",
     "output_type": "stream",
     "text": [
      "/Library/Frameworks/Python.framework/Versions/3.12/lib/python3.12/site-packages/sklearn/neural_network/_multilayer_perceptron.py:691: ConvergenceWarning: Stochastic Optimizer: Maximum iterations (100) reached and the optimization hasn't converged yet.\n",
      "  warnings.warn(\n"
     ]
    },
    {
     "name": "stdout",
     "output_type": "stream",
     "text": [
      "Params: ((100, 50), 100, 0.01, 'tanh')\n",
      "Metrics: {'precision': 0.29052217273207265, 'recall': 0.2692043930592288, 'f1-score': 0.24964043472001096, 'accuracy': 0.2902283590015932}\n",
      "Training Time: 5.7251 seconds\n",
      "\n"
     ]
    },
    {
     "name": "stderr",
     "output_type": "stream",
     "text": [
      "/Library/Frameworks/Python.framework/Versions/3.12/lib/python3.12/site-packages/sklearn/neural_network/_multilayer_perceptron.py:691: ConvergenceWarning: Stochastic Optimizer: Maximum iterations (100) reached and the optimization hasn't converged yet.\n",
      "  warnings.warn(\n"
     ]
    },
    {
     "name": "stdout",
     "output_type": "stream",
     "text": [
      "Params: ((100, 50), 100, 0.01, 'logistic')\n",
      "Metrics: {'precision': 0.2841358114324271, 'recall': 0.2884219590897093, 'f1-score': 0.26187493231379777, 'accuracy': 0.30921402018056293}\n",
      "Training Time: 6.0921 seconds\n",
      "\n"
     ]
    },
    {
     "name": "stderr",
     "output_type": "stream",
     "text": [
      "/Library/Frameworks/Python.framework/Versions/3.12/lib/python3.12/site-packages/sklearn/neural_network/_multilayer_perceptron.py:691: ConvergenceWarning: Stochastic Optimizer: Maximum iterations (300) reached and the optimization hasn't converged yet.\n",
      "  warnings.warn(\n"
     ]
    },
    {
     "name": "stdout",
     "output_type": "stream",
     "text": [
      "Params: ((100, 50), 300, 0.001, 'relu')\n",
      "Metrics: {'precision': 0.30803625721325384, 'recall': 0.29864115396968466, 'f1-score': 0.2772759665724144, 'accuracy': 0.3146574614976102}\n",
      "Training Time: 24.0242 seconds\n",
      "\n"
     ]
    },
    {
     "name": "stderr",
     "output_type": "stream",
     "text": [
      "/Library/Frameworks/Python.framework/Versions/3.12/lib/python3.12/site-packages/sklearn/neural_network/_multilayer_perceptron.py:691: ConvergenceWarning: Stochastic Optimizer: Maximum iterations (300) reached and the optimization hasn't converged yet.\n",
      "  warnings.warn(\n"
     ]
    },
    {
     "name": "stdout",
     "output_type": "stream",
     "text": [
      "Params: ((100, 50), 300, 0.001, 'tanh')\n",
      "Metrics: {'precision': 0.31062921274265176, 'recall': 0.3018939027795114, 'f1-score': 0.2784655434919891, 'accuracy': 0.3158523632501328}\n",
      "Training Time: 25.6093 seconds\n",
      "\n"
     ]
    },
    {
     "name": "stderr",
     "output_type": "stream",
     "text": [
      "/Library/Frameworks/Python.framework/Versions/3.12/lib/python3.12/site-packages/sklearn/neural_network/_multilayer_perceptron.py:691: ConvergenceWarning: Stochastic Optimizer: Maximum iterations (300) reached and the optimization hasn't converged yet.\n",
      "  warnings.warn(\n"
     ]
    },
    {
     "name": "stdout",
     "output_type": "stream",
     "text": [
      "Params: ((100, 50), 300, 0.001, 'logistic')\n",
      "Metrics: {'precision': 0.2773676721848185, 'recall': 0.2791865944601873, 'f1-score': 0.2490847085011064, 'accuracy': 0.29620286776420607}\n",
      "Training Time: 23.1911 seconds\n",
      "\n",
      "Params: ((100, 50), 300, 0.01, 'relu')\n",
      "Metrics: {'precision': 0.27531884031987863, 'recall': 0.2883943381093754, 'f1-score': 0.25838795721756724, 'accuracy': 0.3040361125862985}\n",
      "Training Time: 13.6974 seconds\n",
      "\n",
      "Params: ((100, 50), 300, 0.01, 'tanh')\n",
      "Metrics: {'precision': 0.27058296104858115, 'recall': 0.27553716987728566, 'f1-score': 0.24850742348128668, 'accuracy': 0.28000531067445567}\n",
      "Training Time: 14.8357 seconds\n",
      "\n",
      "Params: ((100, 50), 300, 0.01, 'logistic')\n",
      "Metrics: {'precision': 0.2738151786166074, 'recall': 0.28619749288088814, 'f1-score': 0.25923875550872705, 'accuracy': 0.2879713223579395}\n",
      "Training Time: 25.0207 seconds\n",
      "\n",
      "Params: ((100, 50), 500, 0.001, 'relu')\n",
      "Metrics: {'precision': 0.30315002800980173, 'recall': 0.3003603051119324, 'f1-score': 0.2789714623987263, 'accuracy': 0.3175783324482209}\n",
      "Training Time: 29.1435 seconds\n",
      "\n"
     ]
    },
    {
     "name": "stderr",
     "output_type": "stream",
     "text": [
      "/Library/Frameworks/Python.framework/Versions/3.12/lib/python3.12/site-packages/sklearn/neural_network/_multilayer_perceptron.py:691: ConvergenceWarning: Stochastic Optimizer: Maximum iterations (500) reached and the optimization hasn't converged yet.\n",
      "  warnings.warn(\n"
     ]
    },
    {
     "name": "stdout",
     "output_type": "stream",
     "text": [
      "Params: ((100, 50), 500, 0.001, 'tanh')\n",
      "Metrics: {'precision': 0.3114269276808848, 'recall': 0.30325168830740734, 'f1-score': 0.2838710150775539, 'accuracy': 0.3185077004779607}\n",
      "Training Time: 32.2945 seconds\n",
      "\n"
     ]
    },
    {
     "name": "stderr",
     "output_type": "stream",
     "text": [
      "/Library/Frameworks/Python.framework/Versions/3.12/lib/python3.12/site-packages/sklearn/neural_network/_multilayer_perceptron.py:691: ConvergenceWarning: Stochastic Optimizer: Maximum iterations (500) reached and the optimization hasn't converged yet.\n",
      "  warnings.warn(\n"
     ]
    },
    {
     "name": "stdout",
     "output_type": "stream",
     "text": [
      "Params: ((100, 50), 500, 0.001, 'logistic')\n",
      "Metrics: {'precision': 0.3042711839441039, 'recall': 0.2975926611956507, 'f1-score': 0.27253555979014643, 'accuracy': 0.31691449814126393}\n",
      "Training Time: 36.9666 seconds\n",
      "\n",
      "Params: ((100, 50), 500, 0.01, 'relu')\n",
      "Metrics: {'precision': 0.27531884031987863, 'recall': 0.2883943381093754, 'f1-score': 0.25838795721756724, 'accuracy': 0.3040361125862985}\n",
      "Training Time: 6.8823 seconds\n",
      "\n",
      "Params: ((100, 50), 500, 0.01, 'tanh')\n",
      "Metrics: {'precision': 0.27058296104858115, 'recall': 0.27553716987728566, 'f1-score': 0.24850742348128668, 'accuracy': 0.28000531067445567}\n",
      "Training Time: 12.8159 seconds\n",
      "\n",
      "Params: ((100, 50), 500, 0.01, 'logistic')\n",
      "Metrics: {'precision': 0.2738151786166074, 'recall': 0.28619749288088814, 'f1-score': 0.25923875550872705, 'accuracy': 0.2879713223579395}\n",
      "Training Time: 28.8604 seconds\n",
      "\n",
      "Params: ((100, 50), 1000, 0.001, 'relu')\n",
      "Metrics: {'precision': 0.30315002800980173, 'recall': 0.3003603051119324, 'f1-score': 0.2789714623987263, 'accuracy': 0.3175783324482209}\n",
      "Training Time: 36.2181 seconds\n",
      "\n",
      "Params: ((100, 50), 1000, 0.001, 'tanh')\n",
      "Metrics: {'precision': 0.29738495758194705, 'recall': 0.30847213714693017, 'f1-score': 0.2776938677922335, 'accuracy': 0.3159851301115242}\n",
      "Training Time: 69.6695 seconds\n",
      "\n"
     ]
    },
    {
     "name": "stderr",
     "output_type": "stream",
     "text": [
      "/Library/Frameworks/Python.framework/Versions/3.12/lib/python3.12/site-packages/sklearn/neural_network/_multilayer_perceptron.py:691: ConvergenceWarning: Stochastic Optimizer: Maximum iterations (1000) reached and the optimization hasn't converged yet.\n",
      "  warnings.warn(\n"
     ]
    },
    {
     "name": "stdout",
     "output_type": "stream",
     "text": [
      "Params: ((100, 50), 1000, 0.001, 'logistic')\n",
      "Metrics: {'precision': 0.30993546117395476, 'recall': 0.3052603307164128, 'f1-score': 0.27930007057010103, 'accuracy': 0.3175783324482209}\n",
      "Training Time: 181.8324 seconds\n",
      "\n",
      "Params: ((100, 50), 1000, 0.01, 'relu')\n",
      "Metrics: {'precision': 0.27531884031987863, 'recall': 0.2883943381093754, 'f1-score': 0.25838795721756724, 'accuracy': 0.3040361125862985}\n",
      "Training Time: 55.5850 seconds\n",
      "\n",
      "Params: ((100, 50), 1000, 0.01, 'tanh')\n",
      "Metrics: {'precision': 0.27058296104858115, 'recall': 0.27553716987728566, 'f1-score': 0.24850742348128668, 'accuracy': 0.28000531067445567}\n",
      "Training Time: 14.3892 seconds\n",
      "\n",
      "Params: ((100, 50), 1000, 0.01, 'logistic')\n",
      "Metrics: {'precision': 0.2738151786166074, 'recall': 0.28619749288088814, 'f1-score': 0.25923875550872705, 'accuracy': 0.2879713223579395}\n",
      "Training Time: 24.7436 seconds\n",
      "\n"
     ]
    },
    {
     "name": "stderr",
     "output_type": "stream",
     "text": [
      "/Library/Frameworks/Python.framework/Versions/3.12/lib/python3.12/site-packages/sklearn/neural_network/_multilayer_perceptron.py:691: ConvergenceWarning: Stochastic Optimizer: Maximum iterations (100) reached and the optimization hasn't converged yet.\n",
      "  warnings.warn(\n"
     ]
    },
    {
     "name": "stdout",
     "output_type": "stream",
     "text": [
      "Params: ((100, 100, 50), 100, 0.001, 'relu')\n",
      "Metrics: {'precision': 0.31220216564812087, 'recall': 0.2890190639571804, 'f1-score': 0.26005415495931594, 'accuracy': 0.306558682952735}\n",
      "Training Time: 11.9725 seconds\n",
      "\n"
     ]
    },
    {
     "name": "stderr",
     "output_type": "stream",
     "text": [
      "/Library/Frameworks/Python.framework/Versions/3.12/lib/python3.12/site-packages/sklearn/neural_network/_multilayer_perceptron.py:691: ConvergenceWarning: Stochastic Optimizer: Maximum iterations (100) reached and the optimization hasn't converged yet.\n",
      "  warnings.warn(\n"
     ]
    },
    {
     "name": "stdout",
     "output_type": "stream",
     "text": [
      "Params: ((100, 100, 50), 100, 0.001, 'tanh')\n",
      "Metrics: {'precision': 0.29301873904790254, 'recall': 0.29509219478605214, 'f1-score': 0.2676488169797688, 'accuracy': 0.3139936271906532}\n",
      "Training Time: 12.5276 seconds\n",
      "\n"
     ]
    },
    {
     "name": "stderr",
     "output_type": "stream",
     "text": [
      "/Library/Frameworks/Python.framework/Versions/3.12/lib/python3.12/site-packages/sklearn/neural_network/_multilayer_perceptron.py:691: ConvergenceWarning: Stochastic Optimizer: Maximum iterations (100) reached and the optimization hasn't converged yet.\n",
      "  warnings.warn(\n"
     ]
    },
    {
     "name": "stdout",
     "output_type": "stream",
     "text": [
      "Params: ((100, 100, 50), 100, 0.001, 'logistic')\n",
      "Metrics: {'precision': 0.18939528972454117, 'recall': 0.23035472388898198, 'f1-score': 0.19473433431354464, 'accuracy': 0.25955921402018056}\n",
      "Training Time: 13.0572 seconds\n",
      "\n"
     ]
    },
    {
     "name": "stderr",
     "output_type": "stream",
     "text": [
      "/Library/Frameworks/Python.framework/Versions/3.12/lib/python3.12/site-packages/sklearn/neural_network/_multilayer_perceptron.py:691: ConvergenceWarning: Stochastic Optimizer: Maximum iterations (100) reached and the optimization hasn't converged yet.\n",
      "  warnings.warn(\n"
     ]
    },
    {
     "name": "stdout",
     "output_type": "stream",
     "text": [
      "Params: ((100, 100, 50), 100, 0.01, 'relu')\n",
      "Metrics: {'precision': 0.2646431198564355, 'recall': 0.26379482288316003, 'f1-score': 0.2406036976532948, 'accuracy': 0.2818640467339352}\n",
      "Training Time: 11.8393 seconds\n",
      "\n"
     ]
    },
    {
     "name": "stderr",
     "output_type": "stream",
     "text": [
      "/Library/Frameworks/Python.framework/Versions/3.12/lib/python3.12/site-packages/sklearn/neural_network/_multilayer_perceptron.py:691: ConvergenceWarning: Stochastic Optimizer: Maximum iterations (100) reached and the optimization hasn't converged yet.\n",
      "  warnings.warn(\n"
     ]
    },
    {
     "name": "stdout",
     "output_type": "stream",
     "text": [
      "Params: ((100, 100, 50), 100, 0.01, 'tanh')\n",
      "Metrics: {'precision': 0.2533458982060774, 'recall': 0.253840166094461, 'f1-score': 0.2309664894163188, 'accuracy': 0.26858736059479554}\n",
      "Training Time: 12.1535 seconds\n",
      "\n"
     ]
    },
    {
     "name": "stderr",
     "output_type": "stream",
     "text": [
      "/Library/Frameworks/Python.framework/Versions/3.12/lib/python3.12/site-packages/sklearn/neural_network/_multilayer_perceptron.py:691: ConvergenceWarning: Stochastic Optimizer: Maximum iterations (100) reached and the optimization hasn't converged yet.\n",
      "  warnings.warn(\n"
     ]
    },
    {
     "name": "stdout",
     "output_type": "stream",
     "text": [
      "Params: ((100, 100, 50), 100, 0.01, 'logistic')\n",
      "Metrics: {'precision': 0.2699183029151622, 'recall': 0.27646076636027306, 'f1-score': 0.24936619379869235, 'accuracy': 0.29235262878385554}\n",
      "Training Time: 12.6237 seconds\n",
      "\n"
     ]
    },
    {
     "name": "stderr",
     "output_type": "stream",
     "text": [
      "/Library/Frameworks/Python.framework/Versions/3.12/lib/python3.12/site-packages/sklearn/neural_network/_multilayer_perceptron.py:691: ConvergenceWarning: Stochastic Optimizer: Maximum iterations (300) reached and the optimization hasn't converged yet.\n",
      "  warnings.warn(\n"
     ]
    },
    {
     "name": "stdout",
     "output_type": "stream",
     "text": [
      "Params: ((100, 100, 50), 300, 0.001, 'relu')\n",
      "Metrics: {'precision': 0.2997608972882175, 'recall': 0.29546103227626624, 'f1-score': 0.27681378742334917, 'accuracy': 0.3125331917153478}\n",
      "Training Time: 39.4265 seconds\n",
      "\n"
     ]
    },
    {
     "name": "stderr",
     "output_type": "stream",
     "text": [
      "/Library/Frameworks/Python.framework/Versions/3.12/lib/python3.12/site-packages/sklearn/neural_network/_multilayer_perceptron.py:691: ConvergenceWarning: Stochastic Optimizer: Maximum iterations (300) reached and the optimization hasn't converged yet.\n",
      "  warnings.warn(\n"
     ]
    },
    {
     "name": "stdout",
     "output_type": "stream",
     "text": [
      "Params: ((100, 100, 50), 300, 0.001, 'tanh')\n",
      "Metrics: {'precision': 0.2857332943086019, 'recall': 0.2894047108389409, 'f1-score': 0.2696273429133225, 'accuracy': 0.2987254381306426}\n",
      "Training Time: 50.1466 seconds\n",
      "\n"
     ]
    },
    {
     "name": "stderr",
     "output_type": "stream",
     "text": [
      "/Library/Frameworks/Python.framework/Versions/3.12/lib/python3.12/site-packages/sklearn/neural_network/_multilayer_perceptron.py:691: ConvergenceWarning: Stochastic Optimizer: Maximum iterations (300) reached and the optimization hasn't converged yet.\n",
      "  warnings.warn(\n"
     ]
    },
    {
     "name": "stdout",
     "output_type": "stream",
     "text": [
      "Params: ((100, 100, 50), 300, 0.001, 'logistic')\n",
      "Metrics: {'precision': 0.2507974415646908, 'recall': 0.25871444322555837, 'f1-score': 0.23345281298748338, 'accuracy': 0.29328199681359535}\n",
      "Training Time: 54.1008 seconds\n",
      "\n",
      "Params: ((100, 100, 50), 300, 0.01, 'relu')\n",
      "Metrics: {'precision': 0.2626198375794607, 'recall': 0.2658610687687185, 'f1-score': 0.24739517650905535, 'accuracy': 0.28690918746680827}\n",
      "Training Time: 28.5076 seconds\n",
      "\n",
      "Params: ((100, 100, 50), 300, 0.01, 'tanh')\n",
      "Metrics: {'precision': 0.2579859690595285, 'recall': 0.24741675703736346, 'f1-score': 0.23513458079782312, 'accuracy': 0.26394052044609667}\n",
      "Training Time: 30.4669 seconds\n",
      "\n",
      "Params: ((100, 100, 50), 300, 0.01, 'logistic')\n",
      "Metrics: {'precision': 0.23742889233707967, 'recall': 0.2403316862210297, 'f1-score': 0.2259100875794676, 'accuracy': 0.24787573021773765}\n",
      "Training Time: 51.8297 seconds\n",
      "\n"
     ]
    },
    {
     "name": "stderr",
     "output_type": "stream",
     "text": [
      "/Library/Frameworks/Python.framework/Versions/3.12/lib/python3.12/site-packages/sklearn/neural_network/_multilayer_perceptron.py:691: ConvergenceWarning: Stochastic Optimizer: Maximum iterations (500) reached and the optimization hasn't converged yet.\n",
      "  warnings.warn(\n"
     ]
    },
    {
     "name": "stdout",
     "output_type": "stream",
     "text": [
      "Params: ((100, 100, 50), 500, 0.001, 'relu')\n",
      "Metrics: {'precision': 0.2852622425722148, 'recall': 0.28017638335142925, 'f1-score': 0.2617840614647514, 'accuracy': 0.2862453531598513}\n",
      "Training Time: 67.1767 seconds\n",
      "\n"
     ]
    },
    {
     "name": "stderr",
     "output_type": "stream",
     "text": [
      "/Library/Frameworks/Python.framework/Versions/3.12/lib/python3.12/site-packages/sklearn/neural_network/_multilayer_perceptron.py:691: ConvergenceWarning: Stochastic Optimizer: Maximum iterations (500) reached and the optimization hasn't converged yet.\n",
      "  warnings.warn(\n"
     ]
    },
    {
     "name": "stdout",
     "output_type": "stream",
     "text": [
      "Params: ((100, 100, 50), 500, 0.001, 'tanh')\n",
      "Metrics: {'precision': 0.2648569640089752, 'recall': 0.27021102591243074, 'f1-score': 0.25204377390008187, 'accuracy': 0.2773499734466277}\n",
      "Training Time: 68.8698 seconds\n",
      "\n"
     ]
    },
    {
     "name": "stderr",
     "output_type": "stream",
     "text": [
      "/Library/Frameworks/Python.framework/Versions/3.12/lib/python3.12/site-packages/sklearn/neural_network/_multilayer_perceptron.py:691: ConvergenceWarning: Stochastic Optimizer: Maximum iterations (500) reached and the optimization hasn't converged yet.\n",
      "  warnings.warn(\n"
     ]
    },
    {
     "name": "stdout",
     "output_type": "stream",
     "text": [
      "Params: ((100, 100, 50), 500, 0.001, 'logistic')\n",
      "Metrics: {'precision': 0.27470184843809786, 'recall': 0.287920272803822, 'f1-score': 0.2551199155768756, 'accuracy': 0.3032395114179501}\n",
      "Training Time: 71.5932 seconds\n",
      "\n",
      "Params: ((100, 100, 50), 500, 0.01, 'relu')\n",
      "Metrics: {'precision': 0.2626198375794607, 'recall': 0.2658610687687185, 'f1-score': 0.24739517650905535, 'accuracy': 0.28690918746680827}\n",
      "Training Time: 22.8926 seconds\n",
      "\n",
      "Params: ((100, 100, 50), 500, 0.01, 'tanh')\n",
      "Metrics: {'precision': 0.2579859690595285, 'recall': 0.24741675703736346, 'f1-score': 0.23513458079782312, 'accuracy': 0.26394052044609667}\n",
      "Training Time: 18.0362 seconds\n",
      "\n",
      "Params: ((100, 100, 50), 500, 0.01, 'logistic')\n",
      "Metrics: {'precision': 0.23742889233707967, 'recall': 0.2403316862210297, 'f1-score': 0.2259100875794676, 'accuracy': 0.24787573021773765}\n",
      "Training Time: 38.1466 seconds\n",
      "\n",
      "Params: ((100, 100, 50), 1000, 0.001, 'relu')\n",
      "Metrics: {'precision': 0.2784795613331424, 'recall': 0.281212607573238, 'f1-score': 0.25945641840172734, 'accuracy': 0.2892989909718534}\n",
      "Training Time: 89.9813 seconds\n",
      "\n",
      "Params: ((100, 100, 50), 1000, 0.001, 'tanh')\n",
      "Metrics: {'precision': 0.2510522968273782, 'recall': 0.2564069348758554, 'f1-score': 0.23850611638189445, 'accuracy': 0.2648698884758364}\n",
      "Training Time: 111.8071 seconds\n",
      "\n"
     ]
    },
    {
     "name": "stderr",
     "output_type": "stream",
     "text": [
      "/Library/Frameworks/Python.framework/Versions/3.12/lib/python3.12/site-packages/sklearn/neural_network/_multilayer_perceptron.py:691: ConvergenceWarning: Stochastic Optimizer: Maximum iterations (1000) reached and the optimization hasn't converged yet.\n",
      "  warnings.warn(\n"
     ]
    },
    {
     "name": "stdout",
     "output_type": "stream",
     "text": [
      "Params: ((100, 100, 50), 1000, 0.001, 'logistic')\n",
      "Metrics: {'precision': 0.2844620753807278, 'recall': 0.28914832191050766, 'f1-score': 0.2629028688513816, 'accuracy': 0.30231014338821033}\n",
      "Training Time: 171.7048 seconds\n",
      "\n",
      "Params: ((100, 100, 50), 1000, 0.01, 'relu')\n",
      "Metrics: {'precision': 0.2626198375794607, 'recall': 0.2658610687687185, 'f1-score': 0.24739517650905535, 'accuracy': 0.28690918746680827}\n",
      "Training Time: 22.9529 seconds\n",
      "\n",
      "Params: ((100, 100, 50), 1000, 0.01, 'tanh')\n",
      "Metrics: {'precision': 0.2579859690595285, 'recall': 0.24741675703736346, 'f1-score': 0.23513458079782312, 'accuracy': 0.26394052044609667}\n",
      "Training Time: 17.2888 seconds\n",
      "\n",
      "Params: ((100, 100, 50), 1000, 0.01, 'logistic')\n",
      "Metrics: {'precision': 0.23742889233707967, 'recall': 0.2403316862210297, 'f1-score': 0.2259100875794676, 'accuracy': 0.24787573021773765}\n",
      "Training Time: 39.2774 seconds\n",
      "\n",
      "MLP - метрики:\n",
      "Params: ((50,), 100, 0.001, 'relu'), Metrics: {'precision': 0.2887943548147237, 'recall': 0.2835544638488966, 'f1-score': 0.25665263582757414, 'accuracy': 0.31240042485395647}, Training Time: 2.8510 seconds\n",
      "Params: ((50,), 100, 0.001, 'tanh'), Metrics: {'precision': 0.2861109979379039, 'recall': 0.28341303677576357, 'f1-score': 0.25402041764228234, 'accuracy': 0.3053637812002124}, Training Time: 2.7025 seconds\n",
      "Params: ((50,), 100, 0.001, 'logistic'), Metrics: {'precision': 0.24661646708841065, 'recall': 0.24471938697400403, 'f1-score': 0.21524574989051723, 'accuracy': 0.2711099309612321}, Training Time: 3.0110 seconds\n",
      "Params: ((50,), 100, 0.01, 'relu'), Metrics: {'precision': 0.31339012416468937, 'recall': 0.29494191567578965, 'f1-score': 0.27322354654271447, 'accuracy': 0.3167817312798725}, Training Time: 2.6946 seconds\n",
      "Params: ((50,), 100, 0.01, 'tanh'), Metrics: {'precision': 0.3186698008689377, 'recall': 0.310135183628648, 'f1-score': 0.2950365115903789, 'accuracy': 0.3312533191715348}, Training Time: 2.7135 seconds\n",
      "Params: ((50,), 100, 0.01, 'logistic'), Metrics: {'precision': 0.2993331274796712, 'recall': 0.28717445115342904, 'f1-score': 0.2709782583441668, 'accuracy': 0.3133297928836962}, Training Time: 2.8817 seconds\n",
      "Params: ((50,), 300, 0.001, 'relu'), Metrics: {'precision': 0.3015312190173235, 'recall': 0.29020864259754264, 'f1-score': 0.2657409730310184, 'accuracy': 0.31625066383430694}, Training Time: 7.9727 seconds\n",
      "Params: ((50,), 300, 0.001, 'tanh'), Metrics: {'precision': 0.3093811066195343, 'recall': 0.2910100494671335, 'f1-score': 0.2700193362932811, 'accuracy': 0.3236856080722252}, Training Time: 14.1763 seconds\n",
      "Params: ((50,), 300, 0.001, 'logistic'), Metrics: {'precision': 0.27999299719565096, 'recall': 0.2820117858468103, 'f1-score': 0.24995513284818024, 'accuracy': 0.3068242166755178}, Training Time: 14.7366 seconds\n",
      "Params: ((50,), 300, 0.01, 'relu'), Metrics: {'precision': 0.3057453746364285, 'recall': 0.28384188551661343, 'f1-score': 0.2590760676067395, 'accuracy': 0.30576208178438663}, Training Time: 4.7121 seconds\n",
      "Params: ((50,), 300, 0.01, 'tanh'), Metrics: {'precision': 0.3035034009876988, 'recall': 0.29300648660737727, 'f1-score': 0.27745080248907594, 'accuracy': 0.3131970260223048}, Training Time: 9.4542 seconds\n",
      "Params: ((50,), 300, 0.01, 'logistic'), Metrics: {'precision': 0.31409499673137675, 'recall': 0.30108699917100756, 'f1-score': 0.2796441816615953, 'accuracy': 0.3259426447158789}, Training Time: 12.5368 seconds\n",
      "Params: ((50,), 500, 0.001, 'relu'), Metrics: {'precision': 0.31215280941392043, 'recall': 0.2995570610883971, 'f1-score': 0.2767272039202898, 'accuracy': 0.32461497610196494}, Training Time: 20.9627 seconds\n",
      "Params: ((50,), 500, 0.001, 'tanh'), Metrics: {'precision': 0.3123186505297578, 'recall': 0.3011874579367784, 'f1-score': 0.27816739283737607, 'accuracy': 0.3175783324482209}, Training Time: 21.9764 seconds\n",
      "Params: ((50,), 500, 0.001, 'logistic'), Metrics: {'precision': 0.30171756225460533, 'recall': 0.29345699684997084, 'f1-score': 0.26712937082865595, 'accuracy': 0.31651619755708976}, Training Time: 18.4201 seconds\n",
      "Params: ((50,), 500, 0.01, 'relu'), Metrics: {'precision': 0.3057453746364285, 'recall': 0.28384188551661343, 'f1-score': 0.2590760676067395, 'accuracy': 0.30576208178438663}, Training Time: 7.6609 seconds\n",
      "Params: ((50,), 500, 0.01, 'tanh'), Metrics: {'precision': 0.3035034009876988, 'recall': 0.29300648660737727, 'f1-score': 0.27745080248907594, 'accuracy': 0.3131970260223048}, Training Time: 9.2516 seconds\n",
      "Params: ((50,), 500, 0.01, 'logistic'), Metrics: {'precision': 0.31409499673137675, 'recall': 0.30108699917100756, 'f1-score': 0.2796441816615953, 'accuracy': 0.3259426447158789}, Training Time: 7.0738 seconds\n",
      "Params: ((50,), 1000, 0.001, 'relu'), Metrics: {'precision': 0.32379479669905387, 'recall': 0.3143554679219026, 'f1-score': 0.2865575208754112, 'accuracy': 0.3295273499734466}, Training Time: 27.1308 seconds\n",
      "Params: ((50,), 1000, 0.001, 'tanh'), Metrics: {'precision': 0.3123186505297578, 'recall': 0.3011874579367784, 'f1-score': 0.27816739283737607, 'accuracy': 0.3175783324482209}, Training Time: 20.2011 seconds\n",
      "Params: ((50,), 1000, 0.001, 'logistic'), Metrics: {'precision': 0.3059651628428003, 'recall': 0.30841807879542177, 'f1-score': 0.28180613771644786, 'accuracy': 0.32753584705257566}, Training Time: 36.3308 seconds\n",
      "Params: ((50,), 1000, 0.01, 'relu'), Metrics: {'precision': 0.3057453746364285, 'recall': 0.28384188551661343, 'f1-score': 0.2590760676067395, 'accuracy': 0.30576208178438663}, Training Time: 6.6028 seconds\n",
      "Params: ((50,), 1000, 0.01, 'tanh'), Metrics: {'precision': 0.3035034009876988, 'recall': 0.29300648660737727, 'f1-score': 0.27745080248907594, 'accuracy': 0.3131970260223048}, Training Time: 8.5587 seconds\n",
      "Params: ((50,), 1000, 0.01, 'logistic'), Metrics: {'precision': 0.31409499673137675, 'recall': 0.30108699917100756, 'f1-score': 0.2796441816615953, 'accuracy': 0.3259426447158789}, Training Time: 10.4060 seconds\n",
      "Params: ((100,), 100, 0.001, 'relu'), Metrics: {'precision': 0.29925120747061296, 'recall': 0.2862422090687536, 'f1-score': 0.26248906449846193, 'accuracy': 0.3201009028146575}, Training Time: 5.1288 seconds\n",
      "Params: ((100,), 100, 0.001, 'tanh'), Metrics: {'precision': 0.30293669042232324, 'recall': 0.289321047445549, 'f1-score': 0.27013975570488513, 'accuracy': 0.32501327668613916}, Training Time: 5.1084 seconds\n",
      "Params: ((100,), 100, 0.001, 'logistic'), Metrics: {'precision': 0.2649534299119716, 'recall': 0.25950317989025445, 'f1-score': 0.23178541636000433, 'accuracy': 0.29168879447689855}, Training Time: 6.9840 seconds\n",
      "Params: ((100,), 100, 0.01, 'relu'), Metrics: {'precision': 0.29725703990048813, 'recall': 0.30318079695527406, 'f1-score': 0.27923241710836916, 'accuracy': 0.32116303770578863}, Training Time: 4.6075 seconds\n",
      "Params: ((100,), 100, 0.01, 'tanh'), Metrics: {'precision': 0.29005924874337263, 'recall': 0.2915249572020232, 'f1-score': 0.2654980223261196, 'accuracy': 0.3138608603292618}, Training Time: 5.7260 seconds\n",
      "Params: ((100,), 100, 0.01, 'logistic'), Metrics: {'precision': 0.3064979440962091, 'recall': 0.2974948753263488, 'f1-score': 0.279872100166005, 'accuracy': 0.3190387679235263}, Training Time: 5.6854 seconds\n",
      "Params: ((100,), 300, 0.001, 'relu'), Metrics: {'precision': 0.3112832617410908, 'recall': 0.3054991680680366, 'f1-score': 0.28368443500264573, 'accuracy': 0.32886351566648964}, Training Time: 22.4425 seconds\n",
      "Params: ((100,), 300, 0.001, 'tanh'), Metrics: {'precision': 0.316933582985438, 'recall': 0.3030399367187726, 'f1-score': 0.28725957393448315, 'accuracy': 0.3307222517259692}, Training Time: 17.5371 seconds\n",
      "Params: ((100,), 300, 0.001, 'logistic'), Metrics: {'precision': 0.3108247908466656, 'recall': 0.29059214454645554, 'f1-score': 0.27164089905739425, 'accuracy': 0.3244822092405735}, Training Time: 23.1114 seconds\n",
      "Params: ((100,), 300, 0.01, 'relu'), Metrics: {'precision': 0.2943366227198877, 'recall': 0.3029800361868518, 'f1-score': 0.2703598354652749, 'accuracy': 0.3098778544875199}, Training Time: 4.6261 seconds\n",
      "Params: ((100,), 300, 0.01, 'tanh'), Metrics: {'precision': 0.33064355050642935, 'recall': 0.28731562307943925, 'f1-score': 0.2704725888335774, 'accuracy': 0.29540626659585767}, Training Time: 11.5031 seconds\n",
      "Params: ((100,), 300, 0.01, 'logistic'), Metrics: {'precision': 0.3110316758188104, 'recall': 0.29638547185216957, 'f1-score': 0.27205296921498323, 'accuracy': 0.3193043016463091}, Training Time: 15.5134 seconds\n",
      "Params: ((100,), 500, 0.001, 'relu'), Metrics: {'precision': 0.3103633402581203, 'recall': 0.31394167787584326, 'f1-score': 0.2851346089534436, 'accuracy': 0.3272703133297929}, Training Time: 34.1345 seconds\n",
      "Params: ((100,), 500, 0.001, 'tanh'), Metrics: {'precision': 0.32273018237094575, 'recall': 0.31663228672281296, 'f1-score': 0.28527527305346145, 'accuracy': 0.3279341476367499}, Training Time: 27.3184 seconds\n",
      "Params: ((100,), 500, 0.001, 'logistic'), Metrics: {'precision': 0.304188815684954, 'recall': 0.29542868530748934, 'f1-score': 0.27722662985824365, 'accuracy': 0.32620817843866173}, Training Time: 37.9590 seconds\n",
      "Params: ((100,), 500, 0.01, 'relu'), Metrics: {'precision': 0.2943366227198877, 'recall': 0.3029800361868518, 'f1-score': 0.2703598354652749, 'accuracy': 0.3098778544875199}, Training Time: 6.5029 seconds\n",
      "Params: ((100,), 500, 0.01, 'tanh'), Metrics: {'precision': 0.33064355050642935, 'recall': 0.28731562307943925, 'f1-score': 0.2704725888335774, 'accuracy': 0.29540626659585767}, Training Time: 15.2128 seconds\n",
      "Params: ((100,), 500, 0.01, 'logistic'), Metrics: {'precision': 0.3110316758188104, 'recall': 0.29638547185216957, 'f1-score': 0.27205296921498323, 'accuracy': 0.3193043016463091}, Training Time: 20.6853 seconds\n",
      "Params: ((100,), 1000, 0.001, 'relu'), Metrics: {'precision': 0.3094396106537294, 'recall': 0.30880769817941317, 'f1-score': 0.28600069211859197, 'accuracy': 0.3252788104089219}, Training Time: 28.2657 seconds\n",
      "Params: ((100,), 1000, 0.001, 'tanh'), Metrics: {'precision': 0.32934113346085303, 'recall': 0.3139406500555619, 'f1-score': 0.2886573182313568, 'accuracy': 0.3278013807753585}, Training Time: 43.6451 seconds\n",
      "Params: ((100,), 1000, 0.001, 'logistic'), Metrics: {'precision': 0.3079621274261727, 'recall': 0.3002380534788616, 'f1-score': 0.28025355869749985, 'accuracy': 0.3230217737652682}, Training Time: 45.9840 seconds\n",
      "Params: ((100,), 1000, 0.01, 'relu'), Metrics: {'precision': 0.2943366227198877, 'recall': 0.3029800361868518, 'f1-score': 0.2703598354652749, 'accuracy': 0.3098778544875199}, Training Time: 5.7324 seconds\n",
      "Params: ((100,), 1000, 0.01, 'tanh'), Metrics: {'precision': 0.33064355050642935, 'recall': 0.28731562307943925, 'f1-score': 0.2704725888335774, 'accuracy': 0.29540626659585767}, Training Time: 13.8999 seconds\n",
      "Params: ((100,), 1000, 0.01, 'logistic'), Metrics: {'precision': 0.3110316758188104, 'recall': 0.29638547185216957, 'f1-score': 0.27205296921498323, 'accuracy': 0.3193043016463091}, Training Time: 16.5312 seconds\n",
      "Params: ((100, 50), 100, 0.001, 'relu'), Metrics: {'precision': 0.30669106833642823, 'recall': 0.28324088115688967, 'f1-score': 0.2622626590061439, 'accuracy': 0.3153212958045672}, Training Time: 5.5869 seconds\n",
      "Params: ((100, 50), 100, 0.001, 'tanh'), Metrics: {'precision': 0.3198251030374534, 'recall': 0.28632366282051713, 'f1-score': 0.26416019749513353, 'accuracy': 0.31917153478491767}, Training Time: 5.8138 seconds\n",
      "Params: ((100, 50), 100, 0.001, 'logistic'), Metrics: {'precision': 0.22241425446695703, 'recall': 0.2434557804117637, 'f1-score': 0.20793427301547332, 'accuracy': 0.2786776420605417}, Training Time: 6.5465 seconds\n",
      "Params: ((100, 50), 100, 0.01, 'relu'), Metrics: {'precision': 0.282374723306375, 'recall': 0.28567655333218417, 'f1-score': 0.25714667848380607, 'accuracy': 0.3028412108337759}, Training Time: 6.3791 seconds\n",
      "Params: ((100, 50), 100, 0.01, 'tanh'), Metrics: {'precision': 0.29052217273207265, 'recall': 0.2692043930592288, 'f1-score': 0.24964043472001096, 'accuracy': 0.2902283590015932}, Training Time: 5.7251 seconds\n",
      "Params: ((100, 50), 100, 0.01, 'logistic'), Metrics: {'precision': 0.2841358114324271, 'recall': 0.2884219590897093, 'f1-score': 0.26187493231379777, 'accuracy': 0.30921402018056293}, Training Time: 6.0921 seconds\n",
      "Params: ((100, 50), 300, 0.001, 'relu'), Metrics: {'precision': 0.30803625721325384, 'recall': 0.29864115396968466, 'f1-score': 0.2772759665724144, 'accuracy': 0.3146574614976102}, Training Time: 24.0242 seconds\n",
      "Params: ((100, 50), 300, 0.001, 'tanh'), Metrics: {'precision': 0.31062921274265176, 'recall': 0.3018939027795114, 'f1-score': 0.2784655434919891, 'accuracy': 0.3158523632501328}, Training Time: 25.6093 seconds\n",
      "Params: ((100, 50), 300, 0.001, 'logistic'), Metrics: {'precision': 0.2773676721848185, 'recall': 0.2791865944601873, 'f1-score': 0.2490847085011064, 'accuracy': 0.29620286776420607}, Training Time: 23.1911 seconds\n",
      "Params: ((100, 50), 300, 0.01, 'relu'), Metrics: {'precision': 0.27531884031987863, 'recall': 0.2883943381093754, 'f1-score': 0.25838795721756724, 'accuracy': 0.3040361125862985}, Training Time: 13.6974 seconds\n",
      "Params: ((100, 50), 300, 0.01, 'tanh'), Metrics: {'precision': 0.27058296104858115, 'recall': 0.27553716987728566, 'f1-score': 0.24850742348128668, 'accuracy': 0.28000531067445567}, Training Time: 14.8357 seconds\n",
      "Params: ((100, 50), 300, 0.01, 'logistic'), Metrics: {'precision': 0.2738151786166074, 'recall': 0.28619749288088814, 'f1-score': 0.25923875550872705, 'accuracy': 0.2879713223579395}, Training Time: 25.0207 seconds\n",
      "Params: ((100, 50), 500, 0.001, 'relu'), Metrics: {'precision': 0.30315002800980173, 'recall': 0.3003603051119324, 'f1-score': 0.2789714623987263, 'accuracy': 0.3175783324482209}, Training Time: 29.1435 seconds\n",
      "Params: ((100, 50), 500, 0.001, 'tanh'), Metrics: {'precision': 0.3114269276808848, 'recall': 0.30325168830740734, 'f1-score': 0.2838710150775539, 'accuracy': 0.3185077004779607}, Training Time: 32.2945 seconds\n",
      "Params: ((100, 50), 500, 0.001, 'logistic'), Metrics: {'precision': 0.3042711839441039, 'recall': 0.2975926611956507, 'f1-score': 0.27253555979014643, 'accuracy': 0.31691449814126393}, Training Time: 36.9666 seconds\n",
      "Params: ((100, 50), 500, 0.01, 'relu'), Metrics: {'precision': 0.27531884031987863, 'recall': 0.2883943381093754, 'f1-score': 0.25838795721756724, 'accuracy': 0.3040361125862985}, Training Time: 6.8823 seconds\n",
      "Params: ((100, 50), 500, 0.01, 'tanh'), Metrics: {'precision': 0.27058296104858115, 'recall': 0.27553716987728566, 'f1-score': 0.24850742348128668, 'accuracy': 0.28000531067445567}, Training Time: 12.8159 seconds\n",
      "Params: ((100, 50), 500, 0.01, 'logistic'), Metrics: {'precision': 0.2738151786166074, 'recall': 0.28619749288088814, 'f1-score': 0.25923875550872705, 'accuracy': 0.2879713223579395}, Training Time: 28.8604 seconds\n",
      "Params: ((100, 50), 1000, 0.001, 'relu'), Metrics: {'precision': 0.30315002800980173, 'recall': 0.3003603051119324, 'f1-score': 0.2789714623987263, 'accuracy': 0.3175783324482209}, Training Time: 36.2181 seconds\n",
      "Params: ((100, 50), 1000, 0.001, 'tanh'), Metrics: {'precision': 0.29738495758194705, 'recall': 0.30847213714693017, 'f1-score': 0.2776938677922335, 'accuracy': 0.3159851301115242}, Training Time: 69.6695 seconds\n",
      "Params: ((100, 50), 1000, 0.001, 'logistic'), Metrics: {'precision': 0.30993546117395476, 'recall': 0.3052603307164128, 'f1-score': 0.27930007057010103, 'accuracy': 0.3175783324482209}, Training Time: 181.8324 seconds\n",
      "Params: ((100, 50), 1000, 0.01, 'relu'), Metrics: {'precision': 0.27531884031987863, 'recall': 0.2883943381093754, 'f1-score': 0.25838795721756724, 'accuracy': 0.3040361125862985}, Training Time: 55.5850 seconds\n",
      "Params: ((100, 50), 1000, 0.01, 'tanh'), Metrics: {'precision': 0.27058296104858115, 'recall': 0.27553716987728566, 'f1-score': 0.24850742348128668, 'accuracy': 0.28000531067445567}, Training Time: 14.3892 seconds\n",
      "Params: ((100, 50), 1000, 0.01, 'logistic'), Metrics: {'precision': 0.2738151786166074, 'recall': 0.28619749288088814, 'f1-score': 0.25923875550872705, 'accuracy': 0.2879713223579395}, Training Time: 24.7436 seconds\n",
      "Params: ((100, 100, 50), 100, 0.001, 'relu'), Metrics: {'precision': 0.31220216564812087, 'recall': 0.2890190639571804, 'f1-score': 0.26005415495931594, 'accuracy': 0.306558682952735}, Training Time: 11.9725 seconds\n",
      "Params: ((100, 100, 50), 100, 0.001, 'tanh'), Metrics: {'precision': 0.29301873904790254, 'recall': 0.29509219478605214, 'f1-score': 0.2676488169797688, 'accuracy': 0.3139936271906532}, Training Time: 12.5276 seconds\n",
      "Params: ((100, 100, 50), 100, 0.001, 'logistic'), Metrics: {'precision': 0.18939528972454117, 'recall': 0.23035472388898198, 'f1-score': 0.19473433431354464, 'accuracy': 0.25955921402018056}, Training Time: 13.0572 seconds\n",
      "Params: ((100, 100, 50), 100, 0.01, 'relu'), Metrics: {'precision': 0.2646431198564355, 'recall': 0.26379482288316003, 'f1-score': 0.2406036976532948, 'accuracy': 0.2818640467339352}, Training Time: 11.8393 seconds\n",
      "Params: ((100, 100, 50), 100, 0.01, 'tanh'), Metrics: {'precision': 0.2533458982060774, 'recall': 0.253840166094461, 'f1-score': 0.2309664894163188, 'accuracy': 0.26858736059479554}, Training Time: 12.1535 seconds\n",
      "Params: ((100, 100, 50), 100, 0.01, 'logistic'), Metrics: {'precision': 0.2699183029151622, 'recall': 0.27646076636027306, 'f1-score': 0.24936619379869235, 'accuracy': 0.29235262878385554}, Training Time: 12.6237 seconds\n",
      "Params: ((100, 100, 50), 300, 0.001, 'relu'), Metrics: {'precision': 0.2997608972882175, 'recall': 0.29546103227626624, 'f1-score': 0.27681378742334917, 'accuracy': 0.3125331917153478}, Training Time: 39.4265 seconds\n",
      "Params: ((100, 100, 50), 300, 0.001, 'tanh'), Metrics: {'precision': 0.2857332943086019, 'recall': 0.2894047108389409, 'f1-score': 0.2696273429133225, 'accuracy': 0.2987254381306426}, Training Time: 50.1466 seconds\n",
      "Params: ((100, 100, 50), 300, 0.001, 'logistic'), Metrics: {'precision': 0.2507974415646908, 'recall': 0.25871444322555837, 'f1-score': 0.23345281298748338, 'accuracy': 0.29328199681359535}, Training Time: 54.1008 seconds\n",
      "Params: ((100, 100, 50), 300, 0.01, 'relu'), Metrics: {'precision': 0.2626198375794607, 'recall': 0.2658610687687185, 'f1-score': 0.24739517650905535, 'accuracy': 0.28690918746680827}, Training Time: 28.5076 seconds\n",
      "Params: ((100, 100, 50), 300, 0.01, 'tanh'), Metrics: {'precision': 0.2579859690595285, 'recall': 0.24741675703736346, 'f1-score': 0.23513458079782312, 'accuracy': 0.26394052044609667}, Training Time: 30.4669 seconds\n",
      "Params: ((100, 100, 50), 300, 0.01, 'logistic'), Metrics: {'precision': 0.23742889233707967, 'recall': 0.2403316862210297, 'f1-score': 0.2259100875794676, 'accuracy': 0.24787573021773765}, Training Time: 51.8297 seconds\n",
      "Params: ((100, 100, 50), 500, 0.001, 'relu'), Metrics: {'precision': 0.2852622425722148, 'recall': 0.28017638335142925, 'f1-score': 0.2617840614647514, 'accuracy': 0.2862453531598513}, Training Time: 67.1767 seconds\n",
      "Params: ((100, 100, 50), 500, 0.001, 'tanh'), Metrics: {'precision': 0.2648569640089752, 'recall': 0.27021102591243074, 'f1-score': 0.25204377390008187, 'accuracy': 0.2773499734466277}, Training Time: 68.8698 seconds\n",
      "Params: ((100, 100, 50), 500, 0.001, 'logistic'), Metrics: {'precision': 0.27470184843809786, 'recall': 0.287920272803822, 'f1-score': 0.2551199155768756, 'accuracy': 0.3032395114179501}, Training Time: 71.5932 seconds\n",
      "Params: ((100, 100, 50), 500, 0.01, 'relu'), Metrics: {'precision': 0.2626198375794607, 'recall': 0.2658610687687185, 'f1-score': 0.24739517650905535, 'accuracy': 0.28690918746680827}, Training Time: 22.8926 seconds\n",
      "Params: ((100, 100, 50), 500, 0.01, 'tanh'), Metrics: {'precision': 0.2579859690595285, 'recall': 0.24741675703736346, 'f1-score': 0.23513458079782312, 'accuracy': 0.26394052044609667}, Training Time: 18.0362 seconds\n",
      "Params: ((100, 100, 50), 500, 0.01, 'logistic'), Metrics: {'precision': 0.23742889233707967, 'recall': 0.2403316862210297, 'f1-score': 0.2259100875794676, 'accuracy': 0.24787573021773765}, Training Time: 38.1466 seconds\n",
      "Params: ((100, 100, 50), 1000, 0.001, 'relu'), Metrics: {'precision': 0.2784795613331424, 'recall': 0.281212607573238, 'f1-score': 0.25945641840172734, 'accuracy': 0.2892989909718534}, Training Time: 89.9813 seconds\n",
      "Params: ((100, 100, 50), 1000, 0.001, 'tanh'), Metrics: {'precision': 0.2510522968273782, 'recall': 0.2564069348758554, 'f1-score': 0.23850611638189445, 'accuracy': 0.2648698884758364}, Training Time: 111.8071 seconds\n",
      "Params: ((100, 100, 50), 1000, 0.001, 'logistic'), Metrics: {'precision': 0.2844620753807278, 'recall': 0.28914832191050766, 'f1-score': 0.2629028688513816, 'accuracy': 0.30231014338821033}, Training Time: 171.7048 seconds\n",
      "Params: ((100, 100, 50), 1000, 0.01, 'relu'), Metrics: {'precision': 0.2626198375794607, 'recall': 0.2658610687687185, 'f1-score': 0.24739517650905535, 'accuracy': 0.28690918746680827}, Training Time: 22.9529 seconds\n",
      "Params: ((100, 100, 50), 1000, 0.01, 'tanh'), Metrics: {'precision': 0.2579859690595285, 'recall': 0.24741675703736346, 'f1-score': 0.23513458079782312, 'accuracy': 0.26394052044609667}, Training Time: 17.2888 seconds\n",
      "Params: ((100, 100, 50), 1000, 0.01, 'logistic'), Metrics: {'precision': 0.23742889233707967, 'recall': 0.2403316862210297, 'f1-score': 0.2259100875794676, 'accuracy': 0.24787573021773765}, Training Time: 39.2774 seconds\n"
     ]
    }
   ],
   "source": [
    "# MLP\n",
    "results = experiment_mlp(X_train, y_train_encoded, X_test, y_test_encoded)\n",
    "\n",
    "print(\"MLP - метрики:\")\n",
    "for params, result in results.items():\n",
    "    print(f\"Params: {params}, Metrics: {result['metrics']}, Training Time: {result['training_time']:.4f} seconds\")"
   ]
  },
  {
   "cell_type": "markdown",
   "metadata": {},
   "source": [
    "Params: ((100, 100, 50), [300, 500, 1000], 0.01, 'logistic'), Metrics: {'precision': 0.9321507597441017, 'recall': 0.9333474888506172, 'f1-score': 0.932394304773428, 'accuracy': 0.9355665547109776}, Training Time: 33.0178 seconds"
   ]
  },
  {
   "cell_type": "code",
   "execution_count": 20,
   "metadata": {},
   "outputs": [],
   "source": [
    "def safe_log1p(embeddings, shift=True):\n",
    "    if shift:\n",
    "        min_value = embeddings.min()\n",
    "        if min_value < -1:\n",
    "            embeddings_shifted = embeddings + abs(min_value) + 1\n",
    "        else:\n",
    "            embeddings_shifted = embeddings\n",
    "        return np.log1p(embeddings_shifted)\n",
    "    else:\n",
    "        return np.log1p(np.abs(embeddings))\n",
    "\n",
    "transformations = [\n",
    "    safe_log1p,\n",
    "    np.sin,\n",
    "    np.cos,\n",
    "    np.square\n",
    "]\n",
    "\n",
    "def extend_embeddings(embeddings, functions):\n",
    "    extended_embeddings = embeddings.copy()\n",
    "    for func in functions:\n",
    "        transformed = func(embeddings)\n",
    "        extended_embeddings = np.concatenate((extended_embeddings, transformed), axis=1)\n",
    "    return extended_embeddings"
   ]
  },
  {
   "cell_type": "code",
   "execution_count": 21,
   "metadata": {},
   "outputs": [],
   "source": [
    "X_train_extended = extend_embeddings(X_train, transformations)\n",
    "X_test_extended = extend_embeddings(X_test, transformations)"
   ]
  },
  {
   "cell_type": "code",
   "execution_count": 22,
   "metadata": {},
   "outputs": [],
   "source": [
    "def experiment_mlp_extended(X_train, y_train, X_test, y_test):\n",
    "    model = MLPClassifier(hidden_layer_sizes=(100, 100, 50), max_iter=300, learning_rate_init=0.01, activation='logistic')\n",
    "    \n",
    "    start_time = time.time()\n",
    "    model.fit(X_train, y_train)\n",
    "    training_time = time.time() - start_time\n",
    "    \n",
    "    y_pred = model.predict(X_test)\n",
    "    \n",
    "    metrics = calculate_metrics(y_test, y_pred)\n",
    "    \n",
    "    return metrics, training_time"
   ]
  },
  {
   "cell_type": "code",
   "execution_count": 23,
   "metadata": {},
   "outputs": [
    {
     "name": "stdout",
     "output_type": "stream",
     "text": [
      "{'precision': 0.24003695862342753, 'recall': 0.2399057659308343, 'f1-score': 0.21673998982477238, 'accuracy': 0.26433882103027084}\n",
      "Training Time: 49.51618528366089\n"
     ]
    }
   ],
   "source": [
    "metrics_mlp, training_time_mlp = experiment_mlp_extended(X_train_extended, y_train_encoded, X_test_extended, y_test_encoded)\n",
    "print(metrics_mlp)\n",
    "print(\"Training Time:\", training_time_mlp)"
   ]
  },
  {
   "cell_type": "code",
   "execution_count": 24,
   "metadata": {},
   "outputs": [
    {
     "name": "stdout",
     "output_type": "stream",
     "text": [
      "{'precision': 0.24035001203467177, 'recall': 0.24735044200114595, 'f1-score': 0.2268078620400887, 'accuracy': 0.25185873605947956}\n",
      "Training Time: 42.9942889213562\n"
     ]
    }
   ],
   "source": [
    "X_train_extended = extend_embeddings(X_train, [np.sin])\n",
    "X_test_extended = extend_embeddings(X_test, [np.sin])\n",
    "\n",
    "metrics_mlp, training_time_mlp = experiment_mlp_extended(X_train_extended, y_train_encoded, X_test_extended, y_test_encoded)\n",
    "print(metrics_mlp)\n",
    "print(\"Training Time:\", training_time_mlp)"
   ]
  },
  {
   "cell_type": "code",
   "execution_count": 25,
   "metadata": {},
   "outputs": [
    {
     "name": "stdout",
     "output_type": "stream",
     "text": [
      "{'precision': 0.24301578285239017, 'recall': 0.24410509110262782, 'f1-score': 0.23023554968705393, 'accuracy': 0.2569038767923526}\n",
      "Training Time: 69.53520083427429\n"
     ]
    }
   ],
   "source": [
    "X_train_extended = extend_embeddings(X_train, [np.square])\n",
    "X_test_extended = extend_embeddings(X_test, [np.square])\n",
    "\n",
    "metrics_mlp, training_time_mlp = experiment_mlp_extended(X_train_extended, y_train_encoded, X_test_extended, y_test_encoded)\n",
    "print(metrics_mlp)\n",
    "print(\"Training Time:\", training_time_mlp)"
   ]
  },
  {
   "cell_type": "code",
   "execution_count": 26,
   "metadata": {},
   "outputs": [
    {
     "name": "stdout",
     "output_type": "stream",
     "text": [
      "{'precision': 0.26035749634242544, 'recall': 0.24750608656332745, 'f1-score': 0.22119166861716977, 'accuracy': 0.2741635687732342}\n",
      "Training Time: 68.3126540184021\n"
     ]
    }
   ],
   "source": [
    "X_train_extended = extend_embeddings(X_train, [safe_log1p])\n",
    "X_test_extended = extend_embeddings(X_test, [safe_log1p])\n",
    "\n",
    "metrics_mlp, training_time_mlp = experiment_mlp_extended(X_train_extended, y_train_encoded, X_test_extended, y_test_encoded)\n",
    "print(metrics_mlp)\n",
    "print(\"Training Time:\", training_time_mlp)"
   ]
  },
  {
   "cell_type": "code",
   "execution_count": 27,
   "metadata": {},
   "outputs": [
    {
     "name": "stdout",
     "output_type": "stream",
     "text": [
      "{'precision': 0.24431156260498935, 'recall': 0.257920322506607, 'f1-score': 0.23254087803275972, 'accuracy': 0.25677110993096125}\n",
      "Training Time: 67.94425988197327\n"
     ]
    }
   ],
   "source": [
    "X_train_extended = extend_embeddings(X_train, [np.sin, np.square])\n",
    "X_test_extended = extend_embeddings(X_test, [np.sin, np.square])\n",
    "\n",
    "metrics_mlp, training_time_mlp = experiment_mlp_extended(X_train_extended, y_train_encoded, X_test_extended, y_test_encoded)\n",
    "print(metrics_mlp)\n",
    "print(\"Training Time:\", training_time_mlp)"
   ]
  }
 ],
 "metadata": {
  "kernelspec": {
   "display_name": "Python 3",
   "language": "python",
   "name": "python3"
  },
  "language_info": {
   "codemirror_mode": {
    "name": "ipython",
    "version": 3
   },
   "file_extension": ".py",
   "mimetype": "text/x-python",
   "name": "python",
   "nbconvert_exporter": "python",
   "pygments_lexer": "ipython3",
   "version": "3.12.0"
  }
 },
 "nbformat": 4,
 "nbformat_minor": 2
}
